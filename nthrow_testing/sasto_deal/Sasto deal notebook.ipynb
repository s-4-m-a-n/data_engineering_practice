{
 "cells": [
  {
   "cell_type": "markdown",
   "id": "0b748367",
   "metadata": {},
   "source": [
    "# Sasto deal web scraper"
   ]
  },
  {
   "cell_type": "code",
   "execution_count": 2,
   "id": "0e330579",
   "metadata": {},
   "outputs": [],
   "source": [
    "import requests\n",
    "from bs4 import BeautifulSoup"
   ]
  },
  {
   "cell_type": "code",
   "execution_count": 10,
   "id": "3cac15c3",
   "metadata": {},
   "outputs": [],
   "source": [
    "URL = \"https://www.sastodeal.com/sd-fast/food-essentials/dry-fruits.html?p=1&is_scroll=1\"\n",
    "response = requests.get(URL)"
   ]
  },
  {
   "cell_type": "code",
   "execution_count": 11,
   "id": "f02ad146",
   "metadata": {},
   "outputs": [
    {
     "data": {
      "text/plain": [
       "200"
      ]
     },
     "execution_count": 11,
     "metadata": {},
     "output_type": "execute_result"
    }
   ],
   "source": [
    "response.status_code"
   ]
  },
  {
   "cell_type": "code",
   "execution_count": 12,
   "id": "e6149337",
   "metadata": {},
   "outputs": [
    {
     "name": "stdout",
     "output_type": "stream",
     "text": [
      " <!doctype html><html lang=\"en\"><head > <meta charset=\"utf-8\"/>\n",
      "<meta name=\"title\" content=\"Dry Fruits | Food Essentials | Daily Needs | Sastodeal\"/>\n",
      "<meta name=\"description\" content=\"Shop various Dry Fruits from Food Essentials | Daily Needs products only at your local online shopping web-store in Nepal. Visit now!\"/>\n",
      "<meta name=\"keywords\" content=\"Dry Fruits | Food Essentials | Daily Needs | Sastodeal | Online Shopping in Nepal | Buy Products in Nepal\"/>\n",
      "<meta name=\"robots\" content=\"INDEX,FOLL\n"
     ]
    }
   ],
   "source": [
    "if response.status_code == 200:\n",
    "    response_data = response.text\n",
    "    print(response_data[:500])\n",
    "else:\n",
    "    print(\"Error\")"
   ]
  },
  {
   "cell_type": "code",
   "execution_count": 13,
   "id": "61c130c9",
   "metadata": {},
   "outputs": [
    {
     "data": {
      "text/plain": [
       "'Dry Fruits | Food Essentials | Daily Needs | Sastodeal'"
      ]
     },
     "execution_count": 13,
     "metadata": {},
     "output_type": "execute_result"
    }
   ],
   "source": [
    "html_resp = BeautifulSoup(response.text, \"html.parser\")\n",
    "html_resp.title.text"
   ]
  },
  {
   "cell_type": "code",
   "execution_count": 98,
   "id": "4749af52",
   "metadata": {},
   "outputs": [],
   "source": [
    "def text_parser(html_element):\n",
    "    return html_element.text if html_element else None"
   ]
  },
  {
   "cell_type": "code",
   "execution_count": 107,
   "id": "ea15017c",
   "metadata": {},
   "outputs": [
    {
     "data": {
      "text/plain": [
       "(6, 1)"
      ]
     },
     "execution_count": 107,
     "metadata": {},
     "output_type": "execute_result"
    }
   ],
   "source": [
    "number_of_pages = int(text_parser(html_resp.find(\"div\",{\"id\":\"am-page-count\"})))\n",
    "current_page = int(html_resp.find(\"li\",{\"class\":\"item current\"}).find_all(\"span\")[1].text)\n",
    "number_of_pages, current_page"
   ]
  },
  {
   "cell_type": "code",
   "execution_count": 116,
   "id": "77a838dd",
   "metadata": {},
   "outputs": [
    {
     "data": {
      "text/plain": [
       "(36,\n",
       " <strong class=\"product name product-item-name\"><a class=\"product-item-link\" href=\"https://www.sastodeal.com/dry-fruits-yellow-kismis-1-kg-gh-dfn-08-21.html\">Dry Fruits ( Yellow Kismis) 1 Kg</a></strong>)"
      ]
     },
     "execution_count": 116,
     "metadata": {},
     "output_type": "execute_result"
    }
   ],
   "source": [
    "# parsing all elements of class \"product details product-item-details\"\n",
    "\n",
    "products = html_resp.find_all(\"div\",{'class':\"product details product-item-details\"})\n",
    "product_num = 4\n",
    "len(products), products[product_num].find(\"strong\",{\"class\":\"product name product-item-name\"})"
   ]
  },
  {
   "cell_type": "code",
   "execution_count": 112,
   "id": "a7a644d3",
   "metadata": {},
   "outputs": [
    {
     "data": {
      "text/plain": [
       "{'name': 'Dry Fruits ( Yellow Kismis) 1 Kg',\n",
       " 'url': 'https://www.sastodeal.com/dry-fruits-yellow-kismis-1-kg-gh-dfn-08-21.html'}"
      ]
     },
     "execution_count": 112,
     "metadata": {},
     "output_type": "execute_result"
    }
   ],
   "source": [
    "# product name \n",
    "product_name = products[product_num].find(\"strong\",{\"class\":\"product name product-item-name\"}).text\n",
    "detail_link = products[product_num].find(\"strong\",{\"class\":\"product name product-item-name\"}).find('a')['href']\n",
    "{\"name\":product_name, \"url\": detail_link}"
   ]
  },
  {
   "cell_type": "code",
   "execution_count": 30,
   "id": "d6a304e4",
   "metadata": {},
   "outputs": [
    {
     "data": {
      "text/plain": [
       "{'price': 800, 'discount%': 7.0}"
      ]
     },
     "execution_count": 30,
     "metadata": {},
     "output_type": "execute_result"
    }
   ],
   "source": [
    "#product old price\n",
    "price_box = products[product_num].find(\"div\",{\"class\":\"price-box price-final_price\"})\n",
    "try:\n",
    "    newPrice = int(price_box.find(\"span\",{\"data-price-type\":\"finalPrice\"})[\"data-price-amount\"])\n",
    "except TypeError:\n",
    "    newPrice = None\n",
    "try:\n",
    "    oldPrice = int(price_box.find(\"span\",{\"data-price-type\":\"oldPrice\"})[\"data-price-amount\"])\n",
    "except TypeError:\n",
    "    oldPrice = None\n",
    "\n",
    "try:\n",
    "    discount = (oldPrice-newPrice)/oldPrice * 100\n",
    "except:\n",
    "    discount = None\n",
    "\n",
    "{\"price\" : oldPrice,\"discount%\": round(discount,3)}"
   ]
  },
  {
   "cell_type": "code",
   "execution_count": 115,
   "id": "934895da",
   "metadata": {},
   "outputs": [
    {
     "data": {
      "text/plain": [
       "{'name': 'Dry Fruits ( Yellow Kismis) 1 Kg',\n",
       " 'url': 'https://www.sastodeal.com/dry-fruits-yellow-kismis-1-kg-gh-dfn-08-21.html',\n",
       " 'price': 800,\n",
       " 'discount%': 7.0,\n",
       " 'pagination': {'currentPage': 1, 'numberOfPages': 6, 'numberOfProducts': 36}}"
      ]
     },
     "execution_count": 115,
     "metadata": {},
     "output_type": "execute_result"
    }
   ],
   "source": [
    "partial_data = {\n",
    "    \"name\":product_name,\n",
    "    \"url\":detail_link,\n",
    "    \"price\":oldPrice,\n",
    "    \"discount%\":round(discount,3),\n",
    "     \"pagination\":{\n",
    "        \"currentPage\":current_page,\n",
    "        \"numberOfPages\":number_of_pages\n",
    "        }\n",
    "}\n",
    "partial_data"
   ]
  },
  {
   "cell_type": "markdown",
   "id": "d4e095a5",
   "metadata": {},
   "source": [
    "# Partial Page Scraping"
   ]
  },
  {
   "cell_type": "code",
   "execution_count": 117,
   "id": "79f2c052",
   "metadata": {},
   "outputs": [],
   "source": [
    "import requests\n",
    "from bs4 import BeautifulSoup"
   ]
  },
  {
   "cell_type": "code",
   "execution_count": 120,
   "id": "c4446a07",
   "metadata": {},
   "outputs": [],
   "source": [
    "def text_parser(html_element):\n",
    "    return html_element.text if html_element else None"
   ]
  },
  {
   "cell_type": "code",
   "execution_count": 140,
   "id": "ed48be0e",
   "metadata": {},
   "outputs": [],
   "source": [
    "def partial_scraper(URL = \"https://www.sastodeal.com/sd-fast/food-essentials/dry-fruits.html?p=1&is_scroll=1\"):\n",
    "    response = requests.get(URL)\n",
    "    if response.status_code != 200:\n",
    "        return -1\n",
    "    \n",
    "    html_resp = BeautifulSoup(response.text, \"html.parser\")\n",
    "    \n",
    "    #parsing pagination info\n",
    "    number_of_pages = int(text_parser(html_resp.find(\"div\",{\"id\":\"am-page-count\"})))\n",
    "    current_page = int(html_resp.find(\"li\",{\"class\":\"item current\"}).find_all(\"span\")[1].text)\n",
    "    \n",
    "    # parsing product info\n",
    "    # parsing all elements of class \"product details product-item-details\"\n",
    "    def parse_product(product_dom):\n",
    "        product_name = product_dom.find(\"strong\",{\"class\":\"product name product-item-name\"}).text\n",
    "        detail_link = product_dom.find(\"strong\",{\"class\":\"product name product-item-name\"}).find('a')['href']\n",
    "        \n",
    "        #product price\n",
    "        price_dom = product_dom.find(\"div\",{\"class\":\"price-box price-final_price\"})\n",
    "        try:\n",
    "            new_price = float(price_dom.find(\"span\",{\"data-price-type\":\"finalPrice\"})[\"data-price-amount\"])\n",
    "        except TypeError:\n",
    "            new_price = None\n",
    "        try:\n",
    "            old_price = float(price_dom.find(\"span\",{\"data-price-type\":\"oldPrice\"})[\"data-price-amount\"])\n",
    "        except TypeError:\n",
    "            old_price = None\n",
    "\n",
    "        try:\n",
    "            discount = (old_price-new_price)/old_price * 100\n",
    "        except:\n",
    "            discount = None\n",
    "        \n",
    "        return {\n",
    "            \"name\":product_name,\n",
    "            \"url\":detail_link,\n",
    "            \"price\":old_price if discount else new_price,\n",
    "            \"discount\":round(discount,3) if discount else discount\n",
    "        }    \n",
    "\n",
    "    raw_products = html_resp.find_all(\"div\",{'class':\"product details product-item-details\"})\n",
    "#     print(len(raw_products))\n",
    "    products = [parse_product(product_dom) for product_dom in raw_products]\n",
    "    return {\n",
    "        \"products\" : products,\n",
    "        \"pagination\":{\n",
    "            \"currentPage\":current_page,\n",
    "            \"numberOfPages\":number_of_pages\n",
    "            }\n",
    "        }\n",
    "        \n"
   ]
  },
  {
   "cell_type": "code",
   "execution_count": 141,
   "id": "80d10762",
   "metadata": {},
   "outputs": [
    {
     "data": {
      "text/plain": [
       "{'products': [{'name': 'Combo Dry Fruits 4 Kg',\n",
       "   'url': 'https://www.sastodeal.com/combo-dry-fruits-4-kg-dryfruits-sd-002.html',\n",
       "   'price': 5800.0,\n",
       "   'discount': None},\n",
       "  {'name': 'Wallnut ( Without Shell) 1 Kg (Free 100Gm Almond)',\n",
       "   'url': 'https://www.sastodeal.com/wallnut-without-shell-1-kg-free-100gm-almond-gh-dfn-08-05.html',\n",
       "   'price': 1800.0,\n",
       "   'discount': 7.0},\n",
       "  {'name': 'Mato Almond 200 gm',\n",
       "   'url': 'https://www.sastodeal.com/mato-almond-200-gm-mato-almond-nut-200gm.html',\n",
       "   'price': 425.0,\n",
       "   'discount': None},\n",
       "  {'name': 'Almond 1 Kg (Free 100Gm Almond)',\n",
       "   'url': 'https://www.sastodeal.com/almond-1-kg-free-100gm-almond-gh-dfn-08-04.html',\n",
       "   'price': 1600.0,\n",
       "   'discount': 2.0},\n",
       "  {'name': 'Dry Fruits ( Yellow Kismis) 1 Kg',\n",
       "   'url': 'https://www.sastodeal.com/dry-fruits-yellow-kismis-1-kg-gh-dfn-08-21.html',\n",
       "   'price': 800.0,\n",
       "   'discount': 7.0},\n",
       "  {'name': 'Mato Pistacho (Pista) - 500 gm',\n",
       "   'url': 'https://www.sastodeal.com/mato-pistacho-pista-500-gm-mato-pistacho-500gm.html',\n",
       "   'price': 1165.0,\n",
       "   'discount': None},\n",
       "  {'name': 'Green Raisin /Hareyo Dakh (हरियो किसमिस) 1kg',\n",
       "   'url': 'https://www.sastodeal.com/green-raisin-hareyo-dakh-1kg-df-dak-har-1kg.html',\n",
       "   'price': 520.0,\n",
       "   'discount': None},\n",
       "  {'name': 'Mato Cashew Nut (Kaju)- 500 gm',\n",
       "   'url': 'https://www.sastodeal.com/mato-cashew-nut-kaju-500-gm-mato-cashew-nut-500gm-1.html',\n",
       "   'price': 1025.0,\n",
       "   'discount': None},\n",
       "  {'name': 'Dry Fruits ( Pistachio ) 500Gm',\n",
       "   'url': 'https://www.sastodeal.com/dry-fruits-pistachio-500gm-gh-dfn-08-01.html',\n",
       "   'price': 950.0,\n",
       "   'discount': 5.263},\n",
       "  {'name': 'Dry Fruits ( Pistachio ) 1 Kg (Free 100Gm Almond)',\n",
       "   'url': 'https://www.sastodeal.com/dry-fruits-pistachio-1-kg-free-100gm-almond-gh-dfn-08-06.html',\n",
       "   'price': 1950.0,\n",
       "   'discount': 7.0},\n",
       "  {'name': 'Buy 2 KG Almond And Get 100 GM Almond Free',\n",
       "   'url': 'https://www.sastodeal.com/buy-2-kg-almond-and-get-100-gm-almond-free-dry-fruit-003.html',\n",
       "   'price': 3200.0,\n",
       "   'discount': 7.0},\n",
       "  {'name': 'Buy 2 KG Pista And Get 100 GM Almond Free',\n",
       "   'url': 'https://www.sastodeal.com/buy-2-kg-pista-and-get-100-gm-almond-free-dry-fruit-004.html',\n",
       "   'price': 3900.0,\n",
       "   'discount': 6.974},\n",
       "  {'name': 'Buy 2 KG Kaju And Get 100 GM Almond Free',\n",
       "   'url': 'https://www.sastodeal.com/buy-2-kg-kaju-and-get-100-gm-almond-free-dry-fruit-005.html',\n",
       "   'price': 3600.0,\n",
       "   'discount': 7.0},\n",
       "  {'name': 'Combo Offer : Dry Fruits (Cashew Nuts) 1 Kg -Free 100Gm Almond and 100gm kismiss',\n",
       "   'url': 'https://www.sastodeal.com/combo-offer-dry-fruits-cashew-nuts-1-kg-free-100gm-almond-and-100gm-kismiss-gg-com-org-002.html',\n",
       "   'price': 1800.0,\n",
       "   'discount': None},\n",
       "  {'name': 'Combo Offer : Dry Fruits ( Pistachio ) 1 Kg -Free 100Gm Almond, and 100gm kismiss',\n",
       "   'url': 'https://www.sastodeal.com/combo-offer-dry-fruits-pistachio-1-kg-free-100gm-almond-and-100gm-kismiss-gg-com-org-001.html',\n",
       "   'price': 2000.0,\n",
       "   'discount': 10.75},\n",
       "  {'name': 'UPAKAR DRY FRUITS ALMOND 200GM ',\n",
       "   'url': 'https://www.sastodeal.com/upakar-dry-fruits-almond-200gm-peepal-mart-0301-1536.html',\n",
       "   'price': 300.0,\n",
       "   'discount': None},\n",
       "  {'name': 'Upakar Brand Kismis 80Gm ',\n",
       "   'url': 'https://www.sastodeal.com/upakar-brand-kismis-80gm-peepal-mart-0301-383.html',\n",
       "   'price': 60.0,\n",
       "   'discount': None},\n",
       "  {'name': 'Upakar Brand Kacho Badam 500Gm',\n",
       "   'url': 'https://www.sastodeal.com/upakar-brand-kacho-badam-500gm-peepal-mart-0301-381.html',\n",
       "   'price': 130.0,\n",
       "   'discount': None},\n",
       "  {'name': 'Isha Food Walnut Peeled 90Gm',\n",
       "   'url': 'https://www.sastodeal.com/isha-food-walnut-peeled-90gm-peepal-mart-0301-370.html',\n",
       "   'price': 190.0,\n",
       "   'discount': None},\n",
       "  {'name': 'Isha Food Walnut Peeled 180Gm',\n",
       "   'url': 'https://www.sastodeal.com/isha-food-walnut-peeled-180gm-peepal-mart-0301-369.html',\n",
       "   'price': 375.0,\n",
       "   'discount': None},\n",
       "  {'name': 'Isha Food Roasted Cashew 90Gm',\n",
       "   'url': 'https://www.sastodeal.com/isha-food-roasted-cashew-90gm-peepal-mart-0301-368.html',\n",
       "   'price': 180.0,\n",
       "   'discount': None},\n",
       "  {'name': 'Isha Food Roasted Cashew 180Gm ',\n",
       "   'url': 'https://www.sastodeal.com/isha-food-roasted-cashew-180gm-peepal-mart-0301-367.html',\n",
       "   'price': 360.0,\n",
       "   'discount': None},\n",
       "  {'name': 'Isha Food Pista 400Gm ',\n",
       "   'url': 'https://www.sastodeal.com/isha-food-pista-400gm-peepal-mart-0301-364.html',\n",
       "   'price': 875.0,\n",
       "   'discount': None},\n",
       "  {'name': 'Isha Food Pista 90Gm ',\n",
       "   'url': 'https://www.sastodeal.com/isha-food-pista-90gm-peepal-mart-0301-363.html',\n",
       "   'price': 200.0,\n",
       "   'discount': None},\n",
       "  {'name': 'Isha Food Pista 180Gm ',\n",
       "   'url': 'https://www.sastodeal.com/isha-food-pista-180gm-peepal-mart-0301-362.html',\n",
       "   'price': 400.0,\n",
       "   'discount': None},\n",
       "  {'name': 'Isha Food Green Raisins 90Gm ',\n",
       "   'url': 'https://www.sastodeal.com/isha-food-green-raisins-90gm-peepal-mart-0301-358.html',\n",
       "   'price': 65.0,\n",
       "   'discount': None},\n",
       "  {'name': 'Isha Food Green Raisins 180Gm ',\n",
       "   'url': 'https://www.sastodeal.com/isha-food-green-raisins-180gm-peepal-mart-0301-357.html',\n",
       "   'price': 125.0,\n",
       "   'discount': None},\n",
       "  {'name': 'Isha Food Dhago Mishri 400Gm',\n",
       "   'url': 'https://www.sastodeal.com/isha-food-dhago-mishri-400gm-peepal-mart-0301-356.html',\n",
       "   'price': 85.0,\n",
       "   'discount': None},\n",
       "  {'name': 'Isha Food Black Dates 180Gm',\n",
       "   'url': 'https://www.sastodeal.com/isha-food-black-dates-180gm-peepal-mart-0301-354.html',\n",
       "   'price': 60.0,\n",
       "   'discount': None},\n",
       "  {'name': 'Isha Food Cashew Nut 400Gm',\n",
       "   'url': 'https://www.sastodeal.com/isha-food-cashew-nut-400gm-peepal-mart-0301-351.html',\n",
       "   'price': 800.0,\n",
       "   'discount': None},\n",
       "  {'name': 'Isha Food Cashew Nut 90Gm ',\n",
       "   'url': 'https://www.sastodeal.com/isha-food-cashew-nut-90gm-peepal-mart-0301-350.html',\n",
       "   'price': 180.0,\n",
       "   'discount': None},\n",
       "  {'name': 'ISHA FOOD DHANIYA DANA 400GM ',\n",
       "   'url': 'https://www.sastodeal.com/isha-food-dhaniya-dana-400gm-peepal-mart-0301-717.html',\n",
       "   'price': 110.0,\n",
       "   'discount': None},\n",
       "  {'name': 'ISHA FOOD ANJIR 90GM',\n",
       "   'url': 'https://www.sastodeal.com/isha-food-anjir-90gm-peepal-mart-0301-712.html',\n",
       "   'price': 190.0,\n",
       "   'discount': None},\n",
       "  {'name': 'ISHA FOOD WALNUT PEELED 400GM ',\n",
       "   'url': 'https://www.sastodeal.com/isha-food-walnut-peeled-400gm-peepal-mart-0301-711.html',\n",
       "   'price': 810.0,\n",
       "   'discount': None},\n",
       "  {'name': 'ISHA FOOD DHAGO MISRI 800GM',\n",
       "   'url': 'https://www.sastodeal.com/isha-food-dhago-misri-800gm-peepal-mart-0301-710.html',\n",
       "   'price': 165.0,\n",
       "   'discount': None},\n",
       "  {'name': 'Combo Dry Fruits 2 Kg',\n",
       "   'url': 'https://www.sastodeal.com/combo-dry-fruits-2-kg-ghar-gaun-0308-020.html',\n",
       "   'price': 2900.0,\n",
       "   'discount': None}],\n",
       " 'pagination': {'currentPage': 1, 'numberOfPages': 6}}"
      ]
     },
     "execution_count": 141,
     "metadata": {},
     "output_type": "execute_result"
    }
   ],
   "source": [
    "partial_scraper()"
   ]
  },
  {
   "cell_type": "code",
   "execution_count": null,
   "id": "6c6b7a47",
   "metadata": {},
   "outputs": [],
   "source": []
  },
  {
   "cell_type": "code",
   "execution_count": null,
   "id": "43256fa8",
   "metadata": {},
   "outputs": [],
   "source": []
  },
  {
   "cell_type": "code",
   "execution_count": null,
   "id": "744422ab",
   "metadata": {},
   "outputs": [],
   "source": []
  },
  {
   "cell_type": "code",
   "execution_count": null,
   "id": "c784642b",
   "metadata": {},
   "outputs": [],
   "source": []
  },
  {
   "cell_type": "code",
   "execution_count": null,
   "id": "d7cdaaf8",
   "metadata": {},
   "outputs": [],
   "source": []
  },
  {
   "cell_type": "code",
   "execution_count": null,
   "id": "0da035f2",
   "metadata": {},
   "outputs": [],
   "source": []
  },
  {
   "cell_type": "markdown",
   "id": "dc98b72b",
   "metadata": {},
   "source": [
    "# Detail page Scraping"
   ]
  },
  {
   "cell_type": "code",
   "execution_count": 61,
   "id": "082ffca4",
   "metadata": {},
   "outputs": [
    {
     "name": "stdout",
     "output_type": "stream",
     "text": [
      "Dry Fruits ( Yellow Kismis) 1 Kg | Dry Fruits | Sastodeal\n"
     ]
    }
   ],
   "source": [
    "URL = detail_link\n",
    "# URL = \"https://www.sastodeal.com/redmi-10-prime-2022-4-64-gb-tdl-rdm-102022.html\"\n",
    "# URL = \"https://www.sastodeal.com/britannia-digestive-500gm-sd-gurjbis-002.html\"\n",
    "response = requests.get(URL)\n",
    "if response.status_code == 200:\n",
    "    response = BeautifulSoup(response.text,\"html.parser\")\n",
    "    print(response.title.text)\n",
    "else:\n",
    "    print(\"Error\")"
   ]
  },
  {
   "cell_type": "code",
   "execution_count": null,
   "id": "8a2cf4dc",
   "metadata": {},
   "outputs": [],
   "source": []
  },
  {
   "cell_type": "code",
   "execution_count": 109,
   "id": "ff7422a1",
   "metadata": {},
   "outputs": [
    {
     "data": {
      "text/plain": [
       "{'name': None,\n",
       " 'description': None,\n",
       " 'url': None,\n",
       " 'additionalProperty': {'typeOfProduct': 'Yellow Kismis',\n",
       "  'nutritionalFacts': 'Rich in minerals, proteins, fibre and vitamins',\n",
       "  'storingRecommendation': 'Store at a room temperature of 70°F',\n",
       "  'detail': '  Delivery inside Kathmandu Valley only.',\n",
       "  'countryOfOrigin': 'India'},\n",
       " 'offers': {'price': None,\n",
       "  'discount': None,\n",
       "  'availability': 'In Stock',\n",
       "  'warranty': None},\n",
       " 'brand': 'Generic',\n",
       " 'seller': 'GGOrganicStore',\n",
       " 'sellerUrl': 'https://www.sastodeal.com/marketplace/seller/profile/shop/GGOrganicStore',\n",
       " 'image': 'https://cdn.sastodeal.com/catalog/product/12935/GH-DFN-08-21/22.jpg',\n",
       " 'location': 'Kathmandu',\n",
       " 'review': None,\n",
       " 'rating': None,\n",
       " 'pagination': {'currentPage': 1, 'numberOfPages': 6}}"
      ]
     },
     "execution_count": 109,
     "metadata": {},
     "output_type": "execute_result"
    }
   ],
   "source": [
    "#product info class = \"product-info-main\"\n",
    "data = {\n",
    "    \"name\": None,\n",
    "    \"description\": None,\n",
    "    \"url\": None,\n",
    "    \"additionalProperty\":{\n",
    "        \"typeOfProduct\":None,\n",
    "        \"nutritionalFacts\":None,\n",
    "        \"storingRecommendation\":None,\n",
    "        \"detail\":None,\n",
    "        \"countryOfOrigin\":None\n",
    "        },\n",
    "    \"offers\":{\n",
    "        \"price\":None,\n",
    "        \"discount\":None,\n",
    "        \"availability\":None,\n",
    "        \"warranty\":None\n",
    "    },\n",
    "    \"brand\":None,\n",
    "    \"seller\":None,\n",
    "    \"sellerUrl\":None,\n",
    "    \"image\":None,\n",
    "    \"location\":None,\n",
    "    \"review\":None,\n",
    "    \"rating\":None,\n",
    "    }\n",
    "\n",
    "\n",
    "detail_info_raw = response.find(\"div\",{\"class\":\"row\"})\n",
    "\n",
    "#vendor info\n",
    "vendor_shipping_raw = detail_info_raw.find(\"div\",{\"class\":\"ratingsOut estimateRate\"})\n",
    "                 \n",
    "vendor_raw = vendor_shipping_raw.find(\"a\",{\"id\":\"profileconnect\",\"class\":\"shoptitle\"})\n",
    "data[\"seller\"] = vendor_raw.text\n",
    "data[\"sellerUrl\"] = vendor_raw[\"href\"] \n",
    "\n",
    "shipping_from_raw = vendor_shipping_raw.find_all(\"p\")[1]\n",
    "data[\"location\"] = shipping_from_raw.text[14:].strip() if shipping_from_raw.text.startswith(\"Shipping from:\") else None\n",
    "data[\"offers\"]['availability'] = detail_info_raw.find(\"div\",{\"class\":\"product-info-price\"}).\\\n",
    "                             find(\"span\", {\"class\":\"stockqty\"}).find(\"span\").text\n",
    "\n",
    "data[\"additionalProperty\"][\"detail\"] = detail_info_raw.find(\"div\",{\"class\":\"product attribute overview\"}).text\n",
    "# data[\"raw detail\"] = detail_info_raw.find(\"div\",{\"class\":\"product attribute overview\"})\n",
    "\n",
    "#description\n",
    "try:\n",
    "    data[\"description\"] = detail_info_raw.find(\"div\",{\"class\":\"product attribute description\"}).find(\"p\").text\n",
    "except:\n",
    "    data[\"description\"] = None\n",
    "#additional attribute\n",
    "additional_attribute_raw = detail_info_raw.find(\"div\",{\"id\":\"product-attribute-specs-table\",\"class\":\"data table additional-attributes\"})\n",
    "data[\"brand\"] = text_parser(additional_attribute_raw.find(\"span\",{\"data-th\":\"Brand\"}))\n",
    "data[\"additionalProperty\"][\"typeOfProduct\"] = text_parser(additional_attribute_raw.find(\"span\",{\"data-th\":\"Type Of Product\"}))\n",
    "data[\"additionalProperty\"][\"nutritionalFacts\"] = text_parser(additional_attribute_raw.find(\"span\",{\"data-th\":\"Nutritional Facts\"}))\n",
    "data[\"additionalProperty\"][\"storingRecommendation\"] = text_parser(additional_attribute_raw.find(\"span\",{\"data-th\":\"Storing Recommendation\"}))\n",
    "data[\"additionalProperty\"][\"countryOfOrigin\"] = text_parser(additional_attribute_raw.find(\"span\",{\"data-th\":\"Country Of Origin\"}))\n",
    "data[\"offers\"][\"warranty\"] = text_parser(additional_attribute_raw.find(\"span\",{\"data-th\":\"Warranty\"}))\n",
    "\n",
    "data[\"image\"] = response.find(\"img\",{\"alt\":\"main product photo\"})[\"src\"]\n",
    "# \n",
    "data"
   ]
  },
  {
   "cell_type": "code",
   "execution_count": 76,
   "id": "e4272373",
   "metadata": {},
   "outputs": [],
   "source": [
    "from collections import defaultdict\n",
    "def remove_none(data):\n",
    "    output = defaultdict()\n",
    "    \n",
    "    if isinstance(data,dict):\n",
    "        for k,v in data.items():\n",
    "            if v:\n",
    "                output[k] = remove_none(data[k])\n",
    "    else:\n",
    "        return data\n",
    "    return dict(output)\n",
    "    \n",
    "#     return {k:v for k,v in data.items() if v }"
   ]
  },
  {
   "cell_type": "code",
   "execution_count": 77,
   "id": "82c0018a",
   "metadata": {},
   "outputs": [
    {
     "data": {
      "text/plain": [
       "{'a': ['1,2'], 'b': {'D': 1}, 'g': 'a'}"
      ]
     },
     "execution_count": 77,
     "metadata": {},
     "output_type": "execute_result"
    }
   ],
   "source": [
    "d = {\n",
    "    \"a\":[\"1,2\"],\n",
    "    \"b\" : {\"c\": None,\"D\":1},\n",
    "    \"f\": None,\n",
    "    \"g\": 'a'\n",
    "}\n",
    "remove_none(d)"
   ]
  },
  {
   "cell_type": "code",
   "execution_count": 78,
   "id": "37cc7012",
   "metadata": {},
   "outputs": [
    {
     "data": {
      "text/plain": [
       "{'additionalProperty': {'typeOfProduct': 'Yellow Kismis',\n",
       "  'nutritionalFacts': 'Rich in minerals, proteins, fibre and vitamins',\n",
       "  'storingRecommendation': 'Store at a room temperature of 70°F',\n",
       "  'detail': '  Delivery inside Kathmandu Valley only.',\n",
       "  'countryOfOrigin': 'India'},\n",
       " 'offers': {'availability': 'In Stock'},\n",
       " 'brand': 'Generic',\n",
       " 'seller': 'GGOrganicStore',\n",
       " 'sellerUrl': 'https://www.sastodeal.com/marketplace/seller/profile/shop/GGOrganicStore',\n",
       " 'location': 'Kathmandu'}"
      ]
     },
     "execution_count": 78,
     "metadata": {},
     "output_type": "execute_result"
    }
   ],
   "source": [
    "data_clean = remove_none(data)\n",
    "data_clean"
   ]
  },
  {
   "cell_type": "code",
   "execution_count": null,
   "id": "dfc07db3",
   "metadata": {},
   "outputs": [],
   "source": []
  },
  {
   "cell_type": "code",
   "execution_count": 67,
   "id": "d457599c",
   "metadata": {},
   "outputs": [],
   "source": [
    "# field in sasto deal\n",
    "sasto_deal_fields = [\n",
    "     'vendor', 'vendor link', 'shipping_from',\n",
    "     'stock_availability', 'detail', 'raw detail',\n",
    "     'description', 'brand', 'type of product',\n",
    "     'nutritional facts', 'storing recommendation',\n",
    "     'warranty', \"product_name\", \"detail_link\",\n",
    "     \"old price \", \"new price\"\n",
    "    ]\n",
    "# daraz fields\n",
    "daraz_fields = [\n",
    "    \"productUrl\",\"name\",\"nid\", \"image\",\n",
    "    \"price\",\"ratingScore\",\"review\", \"location\",\n",
    "    \"brandId\",\"brandName\",\"sellerId\",\"sellerName\"\n",
    "]\n",
    "\n",
    "# List of union of fields of both sasto deal and daraz \n",
    "\n",
    "# schema for product type nuts\n",
    "union_fields = {\n",
    "    \"products\":[{\"name\": None,\n",
    "    \"description\": None,\n",
    "    \"url\": None,\n",
    "    \"additionalProperty\":{\n",
    "        \"typeOfProduct\":None,\n",
    "        \"nutritionalFacts\":None,\n",
    "        \"storingRecommendation\":None,\n",
    "        \"detail\":None\n",
    "        },\n",
    "    \"offers\":{\n",
    "        \"price\":None,\n",
    "        \"discount\":None,\n",
    "        \"availability\":None,\n",
    "        \"warranty\":None\n",
    "    },\n",
    "    \"brand\":None,\n",
    "    \"seller\":{\n",
    "        \"name\":None,\n",
    "        \"url\":None,\n",
    "        \"isNew\":None,\n",
    "        \"positiveRating\":None,\n",
    "        \"rateLevel\":None,\n",
    "        \"ID\":None #it can be derived from URL\n",
    "    },\n",
    "    \"image\":None,\n",
    "    \"location\":None,\n",
    "    \"review\":None,\n",
    "    \"rating\":None\n",
    "    }],\n",
    "    \"pagination\":{\n",
    "        \"currentPage\":None,\n",
    "        \"numberOfPages\":None\n",
    "        }\n",
    "    }"
   ]
  },
  {
   "cell_type": "code",
   "execution_count": null,
   "id": "11543327",
   "metadata": {},
   "outputs": [],
   "source": []
  }
 ],
 "metadata": {
  "kernelspec": {
   "display_name": "Python 3 (ipykernel)",
   "language": "python",
   "name": "python3"
  },
  "language_info": {
   "codemirror_mode": {
    "name": "ipython",
    "version": 3
   },
   "file_extension": ".py",
   "mimetype": "text/x-python",
   "name": "python",
   "nbconvert_exporter": "python",
   "pygments_lexer": "ipython3",
   "version": "3.9.7"
  }
 },
 "nbformat": 4,
 "nbformat_minor": 5
}
