{
 "cells": [
  {
   "cell_type": "markdown",
   "id": "0b748367",
   "metadata": {},
   "source": [
    "# Sasto deal web scraper"
   ]
  },
  {
   "cell_type": "code",
   "execution_count": 2,
   "id": "0e330579",
   "metadata": {},
   "outputs": [],
   "source": [
    "import requests\n",
    "from bs4 import BeautifulSoup"
   ]
  },
  {
   "cell_type": "code",
   "execution_count": 10,
   "id": "3cac15c3",
   "metadata": {},
   "outputs": [],
   "source": [
    "URL = \"https://www.sastodeal.com/sd-fast/food-essentials/dry-fruits.html?p=1&is_scroll=1\"\n",
    "response = requests.get(URL)"
   ]
  },
  {
   "cell_type": "code",
   "execution_count": 11,
   "id": "f02ad146",
   "metadata": {},
   "outputs": [
    {
     "data": {
      "text/plain": [
       "200"
      ]
     },
     "execution_count": 11,
     "metadata": {},
     "output_type": "execute_result"
    }
   ],
   "source": [
    "response.status_code"
   ]
  },
  {
   "cell_type": "code",
   "execution_count": 12,
   "id": "e6149337",
   "metadata": {},
   "outputs": [
    {
     "name": "stdout",
     "output_type": "stream",
     "text": [
      " <!doctype html><html lang=\"en\"><head > <meta charset=\"utf-8\"/>\n",
      "<meta name=\"title\" content=\"Dry Fruits | Food Essentials | Daily Needs | Sastodeal\"/>\n",
      "<meta name=\"description\" content=\"Shop various Dry Fruits from Food Essentials | Daily Needs products only at your local online shopping web-store in Nepal. Visit now!\"/>\n",
      "<meta name=\"keywords\" content=\"Dry Fruits | Food Essentials | Daily Needs | Sastodeal | Online Shopping in Nepal | Buy Products in Nepal\"/>\n",
      "<meta name=\"robots\" content=\"INDEX,FOLL\n"
     ]
    }
   ],
   "source": [
    "if response.status_code == 200:\n",
    "    response_data = response.text\n",
    "    print(response_data[:500])\n",
    "else:\n",
    "    print(\"Error\")"
   ]
  },
  {
   "cell_type": "code",
   "execution_count": 13,
   "id": "61c130c9",
   "metadata": {},
   "outputs": [
    {
     "data": {
      "text/plain": [
       "'Dry Fruits | Food Essentials | Daily Needs | Sastodeal'"
      ]
     },
     "execution_count": 13,
     "metadata": {},
     "output_type": "execute_result"
    }
   ],
   "source": [
    "html_resp = BeautifulSoup(response.text, \"html.parser\")\n",
    "html_resp.title.text"
   ]
  },
  {
   "cell_type": "code",
   "execution_count": 18,
   "id": "77a838dd",
   "metadata": {},
   "outputs": [
    {
     "data": {
      "text/plain": [
       "(36,\n",
       " <strong class=\"product name product-item-name\"><a class=\"product-item-link\" href=\"https://www.sastodeal.com/dry-fruits-yellow-kismis-1-kg-gh-dfn-08-21.html\">Dry Fruits ( Yellow Kismis) 1 Kg</a></strong>)"
      ]
     },
     "execution_count": 18,
     "metadata": {},
     "output_type": "execute_result"
    }
   ],
   "source": [
    "# parsing all elements of class \"product details product-item-details\"\n",
    "\n",
    "products = html_resp.find_all(\"div\",{'class':\"product details product-item-details\"})\n",
    "product_num = 4\n",
    "len(products), products[product_num].find(\"strong\",{\"class\":\"product name product-item-name\"})"
   ]
  },
  {
   "cell_type": "code",
   "execution_count": 19,
   "id": "a7a644d3",
   "metadata": {},
   "outputs": [
    {
     "data": {
      "text/plain": [
       "{'name': 'Dry Fruits ( Yellow Kismis) 1 Kg',\n",
       " 'url': 'https://www.sastodeal.com/dry-fruits-yellow-kismis-1-kg-gh-dfn-08-21.html'}"
      ]
     },
     "execution_count": 19,
     "metadata": {},
     "output_type": "execute_result"
    }
   ],
   "source": [
    "# product name \n",
    "product_name = products[product_num].find(\"strong\",{\"class\":\"product name product-item-name\"}).text\n",
    "detail_link = products[product_num].find(\"strong\",{\"class\":\"product name product-item-name\"}).find('a')['href']\n",
    "{\"name\":product_name, \"url\": detail_link}"
   ]
  },
  {
   "cell_type": "code",
   "execution_count": 30,
   "id": "d6a304e4",
   "metadata": {},
   "outputs": [
    {
     "data": {
      "text/plain": [
       "{'price': 800, 'discount%': 7.0}"
      ]
     },
     "execution_count": 30,
     "metadata": {},
     "output_type": "execute_result"
    }
   ],
   "source": [
    "#product old price\n",
    "price_box = products[product_num].find(\"div\",{\"class\":\"price-box price-final_price\"})\n",
    "try:\n",
    "    newPrice = int(price_box.find(\"span\",{\"data-price-type\":\"finalPrice\"})[\"data-price-amount\"])\n",
    "except TypeError:\n",
    "    newPrice = None\n",
    "try:\n",
    "    oldPrice = int(price_box.find(\"span\",{\"data-price-type\":\"oldPrice\"})[\"data-price-amount\"])\n",
    "except TypeError:\n",
    "    oldPrice = None\n",
    "\n",
    "try:\n",
    "    discount = (oldPrice-newPrice)/oldPrice * 100\n",
    "except:\n",
    "    discount = None\n",
    "\n",
    "{\"price\" : oldPrice,\"discount%\": round(discount,3)}"
   ]
  },
  {
   "cell_type": "code",
   "execution_count": null,
   "id": "934895da",
   "metadata": {},
   "outputs": [],
   "source": []
  },
  {
   "cell_type": "markdown",
   "id": "dc98b72b",
   "metadata": {},
   "source": [
    "# Detail page Scraping"
   ]
  },
  {
   "cell_type": "code",
   "execution_count": 61,
   "id": "082ffca4",
   "metadata": {},
   "outputs": [
    {
     "name": "stdout",
     "output_type": "stream",
     "text": [
      "Dry Fruits ( Yellow Kismis) 1 Kg | Dry Fruits | Sastodeal\n"
     ]
    }
   ],
   "source": [
    "URL = detail_link\n",
    "# URL = \"https://www.sastodeal.com/redmi-10-prime-2022-4-64-gb-tdl-rdm-102022.html\"\n",
    "# URL = \"https://www.sastodeal.com/britannia-digestive-500gm-sd-gurjbis-002.html\"\n",
    "response = requests.get(URL)\n",
    "if response.status_code == 200:\n",
    "    response = BeautifulSoup(response.text,\"html.parser\")\n",
    "    print(response.title.text)\n",
    "else:\n",
    "    print(\"Error\")"
   ]
  },
  {
   "cell_type": "code",
   "execution_count": 62,
   "id": "8a2cf4dc",
   "metadata": {},
   "outputs": [],
   "source": [
    "def text_parser(html_element):\n",
    "    return html_element.text if html_element else None"
   ]
  },
  {
   "cell_type": "code",
   "execution_count": 89,
   "id": "ff7422a1",
   "metadata": {},
   "outputs": [
    {
     "data": {
      "text/plain": [
       "{'name': None,\n",
       " 'description': None,\n",
       " 'url': None,\n",
       " 'additionalProperty': {'typeOfProduct': 'Yellow Kismis',\n",
       "  'nutritionalFacts': 'Rich in minerals, proteins, fibre and vitamins',\n",
       "  'storingRecommendation': 'Store at a room temperature of 70°F',\n",
       "  'detail': '  Delivery inside Kathmandu Valley only.',\n",
       "  'countryOfOrigin': 'India'},\n",
       " 'offers': {'price': None,\n",
       "  'discount': None,\n",
       "  'availability': 'In Stock',\n",
       "  'warranty': None},\n",
       " 'brand': 'Generic',\n",
       " 'seller': 'GGOrganicStore',\n",
       " 'sellerUrl': 'https://www.sastodeal.com/marketplace/seller/profile/shop/GGOrganicStore',\n",
       " 'image': 'https://cdn.sastodeal.com/catalog/product/12935/GH-DFN-08-21/22.jpg',\n",
       " 'location': 'Kathmandu',\n",
       " 'review': None,\n",
       " 'rating': None}"
      ]
     },
     "execution_count": 89,
     "metadata": {},
     "output_type": "execute_result"
    }
   ],
   "source": [
    "#product info class = \"product-info-main\"\n",
    "detail_info_raw = response.find(\"div\",{\"class\":\"row\"})\n",
    "data = {\n",
    "    \"name\": None,\n",
    "    \"description\": None,\n",
    "    \"url\": None,\n",
    "    \"additionalProperty\":{\n",
    "        \"typeOfProduct\":None,\n",
    "        \"nutritionalFacts\":None,\n",
    "        \"storingRecommendation\":None,\n",
    "        \"detail\":None,\n",
    "        \"countryOfOrigin\":None\n",
    "        },\n",
    "    \"offers\":{\n",
    "        \"price\":None,\n",
    "        \"discount\":None,\n",
    "        \"availability\":None,\n",
    "        \"warranty\":None\n",
    "    },\n",
    "    \"brand\":None,\n",
    "    \"seller\":None,\n",
    "    \"sellerUrl\":None,\n",
    "    \"image\":None,\n",
    "    \"location\":None,\n",
    "    \"review\":None,\n",
    "    \"rating\":None\n",
    "    }\n",
    "\n",
    "#vendor info\n",
    "vendor_shipping_raw = detail_info_raw.find(\"div\",{\"class\":\"ratingsOut estimateRate\"})\n",
    "                 \n",
    "vendor_raw = vendor_shipping_raw.find(\"a\",{\"id\":\"profileconnect\",\"class\":\"shoptitle\"})\n",
    "data[\"seller\"] = vendor_raw.text\n",
    "data[\"sellerUrl\"] = vendor_raw[\"href\"] \n",
    "\n",
    "shipping_from_raw = vendor_shipping_raw.find_all(\"p\")[1]\n",
    "data[\"location\"] = shipping_from_raw.text[14:].strip() if shipping_from_raw.text.startswith(\"Shipping from:\") else None\n",
    "data[\"offers\"]['availability'] = detail_info_raw.find(\"div\",{\"class\":\"product-info-price\"}).\\\n",
    "                             find(\"span\", {\"class\":\"stockqty\"}).find(\"span\").text\n",
    "\n",
    "data[\"additionalProperty\"][\"detail\"] = detail_info_raw.find(\"div\",{\"class\":\"product attribute overview\"}).text\n",
    "# data[\"raw detail\"] = detail_info_raw.find(\"div\",{\"class\":\"product attribute overview\"})\n",
    "\n",
    "#description\n",
    "try:\n",
    "    data[\"description\"] = detail_info_raw.find(\"div\",{\"class\":\"product attribute description\"}).find(\"p\").text\n",
    "except:\n",
    "    data[\"description\"] = None\n",
    "#additional attribute\n",
    "additional_attribute_raw = detail_info_raw.find(\"div\",{\"id\":\"product-attribute-specs-table\",\"class\":\"data table additional-attributes\"})\n",
    "data[\"brand\"] = text_parser(additional_attribute_raw.find(\"span\",{\"data-th\":\"Brand\"}))\n",
    "data[\"additionalProperty\"][\"typeOfProduct\"] = text_parser(additional_attribute_raw.find(\"span\",{\"data-th\":\"Type Of Product\"}))\n",
    "data[\"additionalProperty\"][\"nutritionalFacts\"] = text_parser(additional_attribute_raw.find(\"span\",{\"data-th\":\"Nutritional Facts\"}))\n",
    "data[\"additionalProperty\"][\"storingRecommendation\"] = text_parser(additional_attribute_raw.find(\"span\",{\"data-th\":\"Storing Recommendation\"}))\n",
    "data[\"additionalProperty\"][\"countryOfOrigin\"] = text_parser(additional_attribute_raw.find(\"span\",{\"data-th\":\"Country Of Origin\"}))\n",
    "data[\"offers\"][\"warranty\"] = text_parser(additional_attribute_raw.find(\"span\",{\"data-th\":\"Warranty\"}))\n",
    "\n",
    "data[\"image\"] = response.find(\"img\",{\"alt\":\"main product photo\"})[\"src\"]\n",
    "# \n",
    "data"
   ]
  },
  {
   "cell_type": "code",
   "execution_count": 76,
   "id": "e4272373",
   "metadata": {},
   "outputs": [],
   "source": [
    "from collections import defaultdict\n",
    "def remove_none(data):\n",
    "    output = defaultdict()\n",
    "    \n",
    "    if isinstance(data,dict):\n",
    "        for k,v in data.items():\n",
    "            if v:\n",
    "                output[k] = remove_none(data[k])\n",
    "    else:\n",
    "        return data\n",
    "    return dict(output)\n",
    "    \n",
    "#     return {k:v for k,v in data.items() if v }"
   ]
  },
  {
   "cell_type": "code",
   "execution_count": 77,
   "id": "1c132c8b",
   "metadata": {},
   "outputs": [
    {
     "data": {
      "text/plain": [
       "{'a': ['1,2'], 'b': {'D': 1}, 'g': 'a'}"
      ]
     },
     "execution_count": 77,
     "metadata": {},
     "output_type": "execute_result"
    }
   ],
   "source": [
    "d = {\n",
    "    \"a\":[\"1,2\"],\n",
    "    \"b\" : {\"c\": None,\"D\":1},\n",
    "    \"f\": None,\n",
    "    \"g\": 'a'\n",
    "}\n",
    "remove_none(d)"
   ]
  },
  {
   "cell_type": "code",
   "execution_count": 78,
   "id": "37cc7012",
   "metadata": {},
   "outputs": [
    {
     "data": {
      "text/plain": [
       "{'additionalProperty': {'typeOfProduct': 'Yellow Kismis',\n",
       "  'nutritionalFacts': 'Rich in minerals, proteins, fibre and vitamins',\n",
       "  'storingRecommendation': 'Store at a room temperature of 70°F',\n",
       "  'detail': '  Delivery inside Kathmandu Valley only.',\n",
       "  'countryOfOrigin': 'India'},\n",
       " 'offers': {'availability': 'In Stock'},\n",
       " 'brand': 'Generic',\n",
       " 'seller': 'GGOrganicStore',\n",
       " 'sellerUrl': 'https://www.sastodeal.com/marketplace/seller/profile/shop/GGOrganicStore',\n",
       " 'location': 'Kathmandu'}"
      ]
     },
     "execution_count": 78,
     "metadata": {},
     "output_type": "execute_result"
    }
   ],
   "source": [
    "data_clean = remove_none(data)\n",
    "data_clean"
   ]
  },
  {
   "cell_type": "code",
   "execution_count": null,
   "id": "dfc07db3",
   "metadata": {},
   "outputs": [],
   "source": []
  },
  {
   "cell_type": "code",
   "execution_count": 67,
   "id": "d457599c",
   "metadata": {},
   "outputs": [],
   "source": [
    "# field in sasto deal\n",
    "sasto_deal_fields = [\n",
    "     'vendor', 'vendor link', 'shipping_from',\n",
    "     'stock_availability', 'detail', 'raw detail',\n",
    "     'description', 'brand', 'type of product',\n",
    "     'nutritional facts', 'storing recommendation',\n",
    "     'warranty', \"product_name\", \"detail_link\",\n",
    "     \"old price \", \"new price\"\n",
    "    ]\n",
    "# daraz fields\n",
    "daraz_fields = [\n",
    "    \"productUrl\",\"name\",\"nid\", \"image\",\n",
    "    \"price\",\"ratingScore\",\"review\", \"location\",\n",
    "    \"brandId\",\"brandName\",\"sellerId\",\"sellerName\"\n",
    "]\n",
    "\n",
    "# List of union of fields of both sasto deal and daraz \n",
    "\n",
    "# schema for product type nuts\n",
    "union_fields = {\n",
    "    \"name\": None,\n",
    "    \"description\": None,\n",
    "    \"url\": None,\n",
    "    \"additionalProperty\":{\n",
    "        \"typeOfProduct\":None,\n",
    "        \"nutritionalFacts\":None,\n",
    "        \"storingRecommendation\":None,\n",
    "        \"detail\":None\n",
    "        },\n",
    "    \"offers\":{\n",
    "        \"price\":None,\n",
    "        \"discount\":None,\n",
    "        \"availability\":None,\n",
    "        \"warranty\":None\n",
    "    },\n",
    "    \"brand\":None,\n",
    "    \"seller\":None,\n",
    "    \"sellerUrl\":None,\n",
    "    \"image\":None,\n",
    "    \"location\":None,\n",
    "    \"review\":None,\n",
    "    \"rating\":None\n",
    "    }"
   ]
  },
  {
   "cell_type": "code",
   "execution_count": null,
   "id": "11543327",
   "metadata": {},
   "outputs": [],
   "source": []
  }
 ],
 "metadata": {
  "kernelspec": {
   "display_name": "Python 3 (ipykernel)",
   "language": "python",
   "name": "python3"
  },
  "language_info": {
   "codemirror_mode": {
    "name": "ipython",
    "version": 3
   },
   "file_extension": ".py",
   "mimetype": "text/x-python",
   "name": "python",
   "nbconvert_exporter": "python",
   "pygments_lexer": "ipython3",
   "version": "3.9.7"
  }
 },
 "nbformat": 4,
 "nbformat_minor": 5
}
