{
 "cells": [
  {
   "cell_type": "markdown",
   "id": "0b748367",
   "metadata": {},
   "source": [
    "# Sasto deal web scraper"
   ]
  },
  {
   "cell_type": "code",
   "execution_count": 14,
   "id": "0e330579",
   "metadata": {},
   "outputs": [],
   "source": [
    "import requests\n",
    "from bs4 import BeautifulSoup"
   ]
  },
  {
   "cell_type": "code",
   "execution_count": 216,
   "id": "3cac15c3",
   "metadata": {},
   "outputs": [],
   "source": [
    "URL = \"https://www.sastodeal.com/sd-fast/food-essentials/dry-fruits.html?p=6&is_scroll=1\"\n",
    "response = requests.get(URL)"
   ]
  },
  {
   "cell_type": "code",
   "execution_count": 217,
   "id": "f02ad146",
   "metadata": {},
   "outputs": [
    {
     "data": {
      "text/plain": [
       "200"
      ]
     },
     "execution_count": 217,
     "metadata": {},
     "output_type": "execute_result"
    }
   ],
   "source": [
    "response.status_code"
   ]
  },
  {
   "cell_type": "code",
   "execution_count": 218,
   "id": "e6149337",
   "metadata": {},
   "outputs": [
    {
     "name": "stdout",
     "output_type": "stream",
     "text": [
      " <!doctype html><html lang=\"en\"><head > <meta charset=\"utf-8\"/>\n",
      "<meta name=\"title\" content=\"Dry Fruits | Food Essentials | Daily Needs | Sastodeal\"/>\n",
      "<meta name=\"description\" content=\"Shop various Dry Fruits from Food Essentials | Daily Needs products only at your local online shopping web-store in Nepal. Visit now!\"/>\n",
      "<meta name=\"keywords\" content=\"Dry Fruits | Food Essentials | Daily Needs | Sastodeal | Online Shopping in Nepal | Buy Products in Nepal\"/>\n",
      "<meta name=\"robots\" content=\"INDEX,FOLL\n"
     ]
    }
   ],
   "source": [
    "if response.status_code == 200:\n",
    "    response_data = response.text\n",
    "    print(response_data[:500])\n",
    "else:\n",
    "    print(\"Error\")"
   ]
  },
  {
   "cell_type": "code",
   "execution_count": 219,
   "id": "61c130c9",
   "metadata": {},
   "outputs": [
    {
     "data": {
      "text/plain": [
       "'Dry Fruits | Food Essentials | Daily Needs | Sastodeal'"
      ]
     },
     "execution_count": 219,
     "metadata": {},
     "output_type": "execute_result"
    }
   ],
   "source": [
    "html_resp = BeautifulSoup(response.text, \"html.parser\")\n",
    "html_resp.title.text"
   ]
  },
  {
   "cell_type": "code",
   "execution_count": 220,
   "id": "77a838dd",
   "metadata": {},
   "outputs": [
    {
     "data": {
      "text/plain": [
       "(17,\n",
       " <strong class=\"product name product-item-name\"><a class=\"product-item-link\" href=\"https://www.sastodeal.com/wallnut-500gm-imported-gh-dfn-08-23.html\">Wallnut 500Gm ( Imported)</a></strong>)"
      ]
     },
     "execution_count": 220,
     "metadata": {},
     "output_type": "execute_result"
    }
   ],
   "source": [
    "# parsing all elements of class \"product details product-item-details\"\n",
    "\n",
    "products = html_resp.find_all(\"div\",{'class':\"product details product-item-details\"})\n",
    "product_num = 1\n",
    "len(products), products[product_num].find(\"strong\",{\"class\":\"product name product-item-name\"})"
   ]
  },
  {
   "cell_type": "code",
   "execution_count": null,
   "id": "a7a644d3",
   "metadata": {},
   "outputs": [],
   "source": [
    "# product name \n",
    "product_name = products[product_num].find(\"strong\",{\"class\":\"product name product-item-name\"}).text\n",
    "detail_link = products[product_num].find(\"strong\",{\"class\":\"product name product-item-name\"}).find('a')['href']\n",
    "{\"product_name\":product_name, \"detail_link\": detail_link}"
   ]
  },
  {
   "cell_type": "code",
   "execution_count": null,
   "id": "d6a304e4",
   "metadata": {},
   "outputs": [],
   "source": [
    "#product old price\n",
    "price_box = products[product_num].find(\"div\",{\"class\":\"price-box price-final_price\"})\n",
    "try:\n",
    "    newPrice = price_box.find(\"span\",{\"data-price-type\":\"finalPrice\"})[\"data-price-amount\"]\n",
    "except TypeError:\n",
    "    newPrice = None\n",
    "try:\n",
    "    oldPrice = price_box.find(\"span\",{\"data-price-type\":\"oldPrice\"})[\"data-price-amount\"]\n",
    "except TypeError:\n",
    "    oldPrice = None\n",
    "    \n",
    "{\"old price \" : oldPrice,\"new price\": newPrice}"
   ]
  },
  {
   "cell_type": "code",
   "execution_count": null,
   "id": "934895da",
   "metadata": {},
   "outputs": [],
   "source": []
  },
  {
   "cell_type": "markdown",
   "id": "dc98b72b",
   "metadata": {},
   "source": [
    "# Detail page Scraping"
   ]
  },
  {
   "cell_type": "code",
   "execution_count": 234,
   "id": "082ffca4",
   "metadata": {},
   "outputs": [
    {
     "name": "stdout",
     "output_type": "stream",
     "text": [
      "Britannia Digestive 500GM | Biscuit & Cookies | Sastodeal\n",
      "Error\n"
     ]
    }
   ],
   "source": [
    "# URL = detail_link\n",
    "URL = \"https://www.sastodeal.com/britannia-digestive-500gm-sd-gurjbis-002.html\"\n",
    "response = requests.get(URL)\n",
    "if response.status_code == 200:\n",
    "    response = BeautifulSoup(response.text,\"html.parser\")\n",
    "    print(response.title.text)\n",
    "# else:\n",
    "    print(\"Error\")"
   ]
  },
  {
   "cell_type": "code",
   "execution_count": 235,
   "id": "8a2cf4dc",
   "metadata": {},
   "outputs": [],
   "source": [
    "def text_parser(html_element):\n",
    "    return html_element.text if html_element else None"
   ]
  },
  {
   "cell_type": "code",
   "execution_count": 239,
   "id": "ff7422a1",
   "metadata": {},
   "outputs": [
    {
     "data": {
      "text/plain": [
       "{'vendor': 'Guruju Store',\n",
       " 'vendor link': 'https://www.sastodeal.com/marketplace/seller/profile/shop/GurujuStore',\n",
       " 'shipping_from': 'Kathmandu',\n",
       " 'stock_availability': 'In Stock',\n",
       " 'detail': [' Delivering inside Kathmandu Valley only\\nBest for munching\\nNutritious and healthy\\nCrunchy and tasty\\nLight and fulfilling\\n\\n'],\n",
       " 'description': 'This digestive biscuit brings you five grains packed into a 500 gram pack of high nutrition.It contains coarse wheat flour and wheat bran which gives it a grainy texture along with oats and other ingredients like dried whey and palm oil, maltose syrup, salt, whole milk powder for that dose of calcium and protein, and raising agents and emulsifiers.',\n",
       " 'brand': 'Generic',\n",
       " 'type of product': 'Britannia Digestive',\n",
       " 'nutritional facts': 'High in nutrients and flavours',\n",
       " 'storing recommendation': 'Store at a room temperature of 70°F',\n",
       " 'country of origin': None,\n",
       " 'warranty': 'No Warranty '}"
      ]
     },
     "execution_count": 239,
     "metadata": {},
     "output_type": "execute_result"
    }
   ],
   "source": [
    "#product info class = \"product-info-main\"\n",
    "detail_info_raw = response.find(\"div\",{\"class\":\"row\"})\n",
    "data = {}\n",
    "\n",
    "#vendor info\n",
    "vendor_shipping_raw = detail_info_raw.find(\"div\",{\"class\":\"ratingsOut estimateRate\"})\n",
    "                 \n",
    "vendor_raw = vendor_shipping_raw.find(\"a\",{\"id\":\"profileconnect\",\"class\":\"shoptitle\"})\n",
    "data[\"vendor\"] = vendor_raw.text\n",
    "data[\"vendor link\"] = vendor_raw[\"href\"] \n",
    "\n",
    "shipping_from_raw = vendor_shipping_raw.find_all(\"p\")[1]\n",
    "data[\"shipping_from\"] = shipping_from_raw.text[14:].strip() if shipping_from_raw.text.startswith(\"Shipping from:\") else None\n",
    "data['stock_availability'] = detail_info_raw.find(\"div\",{\"class\":\"product-info-price\"}).\\\n",
    "                             find(\"span\", {\"class\":\"stockqty\"}).find(\"span\").text\n",
    "\n",
    "data[\"detail\"] = [raw_info.text for raw_info in detail_info_raw.find_all(\"div\",{\"class\":\"product attribute overview\"})]\n",
    "# data[\"raw detail\"] = detail_info_raw.find(\"div\",{\"class\":\"product attribute overview\"})\n",
    "\n",
    "#description\n",
    "try:\n",
    "    data[\"description\"] = detail_info_raw.find(\"div\",{\"class\":\"product attribute description\"}).find(\"p\").text\n",
    "except:\n",
    "    data[\"description\"] = None\n",
    "#additional attribute\n",
    "additional_attribute_raw = detail_info_raw.find(\"div\",{\"id\":\"product-attribute-specs-table\",\"class\":\"data table additional-attributes\"})\n",
    "data[\"brand\"] = text_parser(additional_attribute_raw.find(\"span\",{\"data-th\":\"Brand\"}))\n",
    "data[\"type of product\"] = text_parser(additional_attribute_raw.find(\"span\",{\"data-th\":\"Type Of Product\"}))\n",
    "data[\"nutritional facts\"] = text_parser(additional_attribute_raw.find(\"span\",{\"data-th\":\"Nutritional Facts\"}))\n",
    "data[\"storing recommendation\"] = text_parser(additional_attribute_raw.find(\"span\",{\"data-th\":\"Storing Recommendation\"}))\n",
    "data[\"country of origin\"] = text_parser(additional_attribute_raw.find(\"span\",{\"data-th\":\"Country Of Origin\"}))\n",
    "data[\"warranty\"] = text_parser(additional_attribute_raw.find(\"span\",{\"data-th\":\"Warranty\"}))\n",
    "\n",
    "data"
   ]
  },
  {
   "cell_type": "code",
   "execution_count": 240,
   "id": "e4272373",
   "metadata": {},
   "outputs": [],
   "source": [
    "def remove_none(data):\n",
    "    return {k:v for k,v in data.items() if v }"
   ]
  },
  {
   "cell_type": "code",
   "execution_count": 241,
   "id": "37cc7012",
   "metadata": {},
   "outputs": [
    {
     "data": {
      "text/plain": [
       "{'vendor': 'Guruju Store',\n",
       " 'vendor link': 'https://www.sastodeal.com/marketplace/seller/profile/shop/GurujuStore',\n",
       " 'shipping_from': 'Kathmandu',\n",
       " 'stock_availability': 'In Stock',\n",
       " 'detail': [' Delivering inside Kathmandu Valley only\\nBest for munching\\nNutritious and healthy\\nCrunchy and tasty\\nLight and fulfilling\\n\\n'],\n",
       " 'description': 'This digestive biscuit brings you five grains packed into a 500 gram pack of high nutrition.It contains coarse wheat flour and wheat bran which gives it a grainy texture along with oats and other ingredients like dried whey and palm oil, maltose syrup, salt, whole milk powder for that dose of calcium and protein, and raising agents and emulsifiers.',\n",
       " 'brand': 'Generic',\n",
       " 'type of product': 'Britannia Digestive',\n",
       " 'nutritional facts': 'High in nutrients and flavours',\n",
       " 'storing recommendation': 'Store at a room temperature of 70°F',\n",
       " 'warranty': 'No Warranty '}"
      ]
     },
     "execution_count": 241,
     "metadata": {},
     "output_type": "execute_result"
    }
   ],
   "source": [
    "data_clean = remove_none(data)\n",
    "data_clean"
   ]
  },
  {
   "cell_type": "code",
   "execution_count": null,
   "id": "dfc07db3",
   "metadata": {},
   "outputs": [],
   "source": []
  },
  {
   "cell_type": "code",
   "execution_count": null,
   "id": "d457599c",
   "metadata": {},
   "outputs": [],
   "source": [
    "# field in sasto deal\n",
    "sasto_deal_fields = [\n",
    "     'vendor', 'vendor link', 'shipping_from',\n",
    "     'stock_availability', 'detail', 'raw detail',\n",
    "     'description', 'brand', 'type of product',\n",
    "     'nutritional facts', 'storing recommendation',\n",
    "     'warranty', \"product_name\", \"detail_link\",\n",
    "     \"old price \", \"new price\"\n",
    "    ]\n",
    "# daraz fields\n",
    "daraz_fields = [\n",
    "    \"productUrl\",\"name\",\"nid\", \"image\",\n",
    "    \"price\",\"ratingScore\",\"review\", \"location\",\n",
    "    \"brandId\",\"brandName\",\"sellerId\",\"sellerName\"\n",
    "]\n",
    "\n",
    "# List of union of fields of both sasto deal and daraz \n",
    "\n",
    "\n",
    "union_fields = {\n",
    "    \"name\": None,\n",
    "    \"description\": None,\n",
    "    \"url\": None,\n",
    "    \"additionalProperty\":{\n",
    "        \"typeOfProduct\":None,\n",
    "        \"nutritionalFacts\":None,\n",
    "        \"storingRecommendation\":None,\n",
    "        \"detail\":None\n",
    "        },\n",
    "    \"offers\":{\n",
    "        \"price\":None,\n",
    "        \"discount\":None,\n",
    "        \"availability\":None,\n",
    "        \"warranty\":None\n",
    "    }\n",
    "    \"brand\":None,\n",
    "    \"seller\":None,\n",
    "    \"image\":None,\n",
    "    \"location\":None,\n",
    "    \"review\":None,\n",
    "    \"rating\":None\n",
    "    }"
   ]
  },
  {
   "cell_type": "code",
   "execution_count": null,
   "id": "11543327",
   "metadata": {},
   "outputs": [],
   "source": []
  }
 ],
 "metadata": {
  "kernelspec": {
   "display_name": "Python 3 (ipykernel)",
   "language": "python",
   "name": "python3"
  },
  "language_info": {
   "codemirror_mode": {
    "name": "ipython",
    "version": 3
   },
   "file_extension": ".py",
   "mimetype": "text/x-python",
   "name": "python",
   "nbconvert_exporter": "python",
   "pygments_lexer": "ipython3",
   "version": "3.9.7"
  }
 },
 "nbformat": 4,
 "nbformat_minor": 5
}
