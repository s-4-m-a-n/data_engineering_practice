{
 "cells": [
  {
   "cell_type": "markdown",
   "id": "a5ca4231",
   "metadata": {},
   "source": [
    "# Dummy email Filter"
   ]
  },
  {
   "cell_type": "code",
   "execution_count": 9,
   "id": "d80fb256",
   "metadata": {},
   "outputs": [],
   "source": [
    "import pandas as pd"
   ]
  },
  {
   "cell_type": "code",
   "execution_count": 10,
   "id": "36e0d1ce",
   "metadata": {},
   "outputs": [
    {
     "data": {
      "text/html": [
       "<div>\n",
       "<style scoped>\n",
       "    .dataframe tbody tr th:only-of-type {\n",
       "        vertical-align: middle;\n",
       "    }\n",
       "\n",
       "    .dataframe tbody tr th {\n",
       "        vertical-align: top;\n",
       "    }\n",
       "\n",
       "    .dataframe thead th {\n",
       "        text-align: right;\n",
       "    }\n",
       "</style>\n",
       "<table border=\"1\" class=\"dataframe\">\n",
       "  <thead>\n",
       "    <tr style=\"text-align: right;\">\n",
       "      <th></th>\n",
       "      <th>primary_email</th>\n",
       "      <th>secondary_email</th>\n",
       "    </tr>\n",
       "  </thead>\n",
       "  <tbody>\n",
       "    <tr>\n",
       "      <th>0</th>\n",
       "      <td>[\"info@exitbeveiliging.nl\"]</td>\n",
       "      <td>[]</td>\n",
       "    </tr>\n",
       "    <tr>\n",
       "      <th>1</th>\n",
       "      <td>[\"meister@klima-lange.de\"]</td>\n",
       "      <td>[]</td>\n",
       "    </tr>\n",
       "    <tr>\n",
       "      <th>2</th>\n",
       "      <td>[\"jules@autourduparquet.fr\"]</td>\n",
       "      <td>[]</td>\n",
       "    </tr>\n",
       "    <tr>\n",
       "      <th>3</th>\n",
       "      <td>[\"hedylapkin@gmail.com\"]</td>\n",
       "      <td>[]</td>\n",
       "    </tr>\n",
       "    <tr>\n",
       "      <th>4</th>\n",
       "      <td>[\"bucuresti@oltextur.ro\"]</td>\n",
       "      <td>[]</td>\n",
       "    </tr>\n",
       "  </tbody>\n",
       "</table>\n",
       "</div>"
      ],
      "text/plain": [
       "                  primary_email secondary_email\n",
       "0   [\"info@exitbeveiliging.nl\"]              []\n",
       "1    [\"meister@klima-lange.de\"]              []\n",
       "2  [\"jules@autourduparquet.fr\"]              []\n",
       "3      [\"hedylapkin@gmail.com\"]              []\n",
       "4     [\"bucuresti@oltextur.ro\"]              []"
      ]
     },
     "execution_count": 10,
     "metadata": {},
     "output_type": "execute_result"
    }
   ],
   "source": [
    "email_data = pd.read_csv(\"../email.csv\")\n",
    "email_data.head()"
   ]
  },
  {
   "cell_type": "code",
   "execution_count": 11,
   "id": "cde7a75b",
   "metadata": {},
   "outputs": [
    {
     "data": {
      "text/plain": [
       "(11432,)"
      ]
     },
     "execution_count": 11,
     "metadata": {},
     "output_type": "execute_result"
    }
   ],
   "source": [
    "email_data['secondary_email'].unique().shape"
   ]
  },
  {
   "cell_type": "code",
   "execution_count": 12,
   "id": "d2b9c191",
   "metadata": {},
   "outputs": [
    {
     "data": {
      "text/plain": [
       "(181554, 2)"
      ]
     },
     "execution_count": 12,
     "metadata": {},
     "output_type": "execute_result"
    }
   ],
   "source": [
    "email_data.shape"
   ]
  },
  {
   "cell_type": "code",
   "execution_count": 13,
   "id": "dbef66e5",
   "metadata": {},
   "outputs": [],
   "source": [
    "unique_email = email_data['primary_email'].unique()"
   ]
  },
  {
   "cell_type": "code",
   "execution_count": 14,
   "id": "d9909d6f",
   "metadata": {},
   "outputs": [],
   "source": [
    "d = email_data.drop_duplicates()"
   ]
  },
  {
   "cell_type": "code",
   "execution_count": 15,
   "id": "0db3b69f",
   "metadata": {},
   "outputs": [
    {
     "data": {
      "text/plain": [
       "array(['[]', '[\"rudinsheshi1@gmail.com\"]',\n",
       "       '[\"ocran@ek-brandconsult.com\"]', ...,\n",
       "       '[\"79224121756@yandex.ru\", \"alexprolopatin@gmail.com\", \"binh@ukr.net\", \"fotosalon@list.ru\", \"konstbtk@mail.ru\", \"kurteanu@inbox.ru\", \"mazahaka5310@gmail.com\", \"office.uzl@mail.ru\", \"photo.mag@mail.ru\", \"s.e.r@list.ru\", \"saadi77@mail.ru\", \"sansho8261@gmail.com\", \"scitex@ukr.net\", \"u-yurika@yandex.ru\", \"yulja2210@ukr.net\"]',\n",
       "       '[\"grangrill2019@gmail.com\"]', '[\"youremail@company.com\"]'],\n",
       "      dtype=object)"
      ]
     },
     "execution_count": 15,
     "metadata": {},
     "output_type": "execute_result"
    }
   ],
   "source": [
    "d['secondary_email'].unique()"
   ]
  },
  {
   "cell_type": "code",
   "execution_count": 16,
   "id": "50527e01",
   "metadata": {},
   "outputs": [
    {
     "data": {
      "text/plain": [
       "[]                                                                        143815\n",
       "[\"enteryour@addresshere.com\"]                                                284\n",
       "[\"contact@onlinevisionmarket.com\", \"webmaster@onlinevisionmarket.com\"]        45\n",
       "[\"john@doe.com\"]                                                              41\n",
       "[\"assistance@shopify.com\"]                                                    20\n",
       "                                                                           ...  \n",
       "[\"myounes@icloud.com\"]                                                         1\n",
       "[\"info@haugundpartner.de\"]                                                     1\n",
       "[\"doglodge-hundepension@t-online.de\"]                                          1\n",
       "[\"kontakt@unicorn-factory.net\"]                                                1\n",
       "[\"youremail@company.com\"]                                                      1\n",
       "Name: secondary_email, Length: 11432, dtype: int64"
      ]
     },
     "execution_count": 16,
     "metadata": {},
     "output_type": "execute_result"
    }
   ],
   "source": [
    "d['secondary_email'].value_counts()"
   ]
  },
  {
   "cell_type": "code",
   "execution_count": 17,
   "id": "719c675c",
   "metadata": {},
   "outputs": [
    {
     "data": {
      "text/plain": [
       "30"
      ]
     },
     "execution_count": 17,
     "metadata": {},
     "output_type": "execute_result"
    }
   ],
   "source": [
    "email_data['primary_email'].value_counts()[20]"
   ]
  },
  {
   "cell_type": "code",
   "execution_count": 18,
   "id": "aa08fd18",
   "metadata": {},
   "outputs": [
    {
     "data": {
      "text/plain": [
       "[]                                                                        166823\n",
       "[\"enteryour@addresshere.com\"]                                                514\n",
       "[\"john@doe.com\"]                                                              76\n",
       "[\"contact@onlinevisionmarket.com\", \"webmaster@onlinevisionmarket.com\"]        57\n",
       "[\"info@company.com\"]                                                          28\n",
       "[\"mllegeorgesand@gmail.com\"]                                                  27\n",
       "[\"example@gmail.com\"]                                                         25\n",
       "[\"youremail@gmail.com\"]                                                       23\n",
       "[\"su-email@ejemplo.com\"]                                                      23\n",
       "[\"assistance@shopify.com\"]                                                    21\n",
       "[\"masterpost@sekurpro.com\"]                                                   21\n",
       "[\"support@gmail.com\"]                                                         19\n",
       "[\"mustermann@musterfirma.de\"]                                                 18\n",
       "[\"ugyfelszolgalat@naih.hu\"]                                                   18\n",
       "[\"inquiries@company.com\"]                                                     17\n",
       "[\"contacts@company.com\"]                                                      17\n",
       "[\"noreply@envato.com\"]                                                        16\n",
       "[\"contact@company.com\"]                                                       16\n",
       "[\"privacy@twitter.com\"]                                                       15\n",
       "[\"info@digital-fastlane.de\"]                                                  15\n",
       "Name: secondary_email, dtype: int64"
      ]
     },
     "execution_count": 18,
     "metadata": {},
     "output_type": "execute_result"
    }
   ],
   "source": [
    "email_data['secondary_email'].value_counts()[:20]"
   ]
  },
  {
   "cell_type": "markdown",
   "id": "0cb1cb70",
   "metadata": {},
   "source": [
    "# unpacking emails"
   ]
  },
  {
   "cell_type": "code",
   "execution_count": 28,
   "id": "cf73870f",
   "metadata": {},
   "outputs": [],
   "source": [
    "def unpack_email(email_data,columns=[\"primary_email\",\"secondary_email\"]):\n",
    "    email_list = []\n",
    "    for col in columns:\n",
    "        for item in email_data[col]:\n",
    "            email_list += item.strip('][').replace('\"',\"\").split(', ')\n",
    "    return email_list"
   ]
  },
  {
   "cell_type": "code",
   "execution_count": 29,
   "id": "e18fd970",
   "metadata": {},
   "outputs": [],
   "source": [
    "email_list = unpack_email(email_data,columns=[\"secondary_email\"])\n"
   ]
  },
  {
   "cell_type": "code",
   "execution_count": 33,
   "id": "0d33beb6",
   "metadata": {},
   "outputs": [
    {
     "data": {
      "text/plain": [
       "['a']"
      ]
     },
     "execution_count": 33,
     "metadata": {},
     "output_type": "execute_result"
    }
   ],
   "source": [
    "item = 'a'\n",
    "item.strip('][').replace('\"',\"\").split(', ')"
   ]
  },
  {
   "cell_type": "code",
   "execution_count": 14,
   "id": "19c0c3bc",
   "metadata": {},
   "outputs": [],
   "source": [
    "email_list = pd.DataFrame(email_list,columns=[\"email\"])"
   ]
  },
  {
   "cell_type": "code",
   "execution_count": 15,
   "id": "329fa279",
   "metadata": {},
   "outputs": [
    {
     "data": {
      "text/html": [
       "<div>\n",
       "<style scoped>\n",
       "    .dataframe tbody tr th:only-of-type {\n",
       "        vertical-align: middle;\n",
       "    }\n",
       "\n",
       "    .dataframe tbody tr th {\n",
       "        vertical-align: top;\n",
       "    }\n",
       "\n",
       "    .dataframe thead th {\n",
       "        text-align: right;\n",
       "    }\n",
       "</style>\n",
       "<table border=\"1\" class=\"dataframe\">\n",
       "  <thead>\n",
       "    <tr style=\"text-align: right;\">\n",
       "      <th></th>\n",
       "      <th>email</th>\n",
       "    </tr>\n",
       "  </thead>\n",
       "  <tbody>\n",
       "    <tr>\n",
       "      <th>0</th>\n",
       "      <td>grangrill2019@gmail.com</td>\n",
       "    </tr>\n",
       "    <tr>\n",
       "      <th>1</th>\n",
       "      <td></td>\n",
       "    </tr>\n",
       "    <tr>\n",
       "      <th>2</th>\n",
       "      <td></td>\n",
       "    </tr>\n",
       "    <tr>\n",
       "      <th>3</th>\n",
       "      <td></td>\n",
       "    </tr>\n",
       "    <tr>\n",
       "      <th>4</th>\n",
       "      <td></td>\n",
       "    </tr>\n",
       "    <tr>\n",
       "      <th>...</th>\n",
       "      <td>...</td>\n",
       "    </tr>\n",
       "    <tr>\n",
       "      <th>174113</th>\n",
       "      <td>yulja2210@ukr.net</td>\n",
       "    </tr>\n",
       "    <tr>\n",
       "      <th>174114</th>\n",
       "      <td></td>\n",
       "    </tr>\n",
       "    <tr>\n",
       "      <th>174115</th>\n",
       "      <td></td>\n",
       "    </tr>\n",
       "    <tr>\n",
       "      <th>174116</th>\n",
       "      <td></td>\n",
       "    </tr>\n",
       "    <tr>\n",
       "      <th>174117</th>\n",
       "      <td></td>\n",
       "    </tr>\n",
       "  </tbody>\n",
       "</table>\n",
       "<p>174118 rows × 1 columns</p>\n",
       "</div>"
      ],
      "text/plain": [
       "                          email\n",
       "0       grangrill2019@gmail.com\n",
       "1                              \n",
       "2                              \n",
       "3                              \n",
       "4                              \n",
       "...                         ...\n",
       "174113        yulja2210@ukr.net\n",
       "174114                         \n",
       "174115                         \n",
       "174116                         \n",
       "174117                         \n",
       "\n",
       "[174118 rows x 1 columns]"
      ]
     },
     "execution_count": 15,
     "metadata": {},
     "output_type": "execute_result"
    }
   ],
   "source": [
    "email_list"
   ]
  },
  {
   "cell_type": "code",
   "execution_count": 16,
   "id": "2b5428ab",
   "metadata": {},
   "outputs": [
    {
     "data": {
      "text/plain": [
       "email                           \n",
       "                                    151870\n",
       "enteryour@addresshere.com              493\n",
       "john@doe.com                            76\n",
       "contact@onlinevisionmarket.com          51\n",
       "webmaster@onlinevisionmarket.com        51\n",
       "ugyfelszolgalat@naih.hu                 38\n",
       "info@company.com                        33\n",
       "youremail@gmail.com                     26\n",
       "example@gmail.com                       26\n",
       "assistance@shopify.com                  25\n",
       "mllegeorgesand@gmail.com                25\n",
       "su-email@ejemplo.com                    20\n",
       "support@gmail.com                       19\n",
       "masterpost@sekurpro.com                 19\n",
       "privacy@twitter.com                     19\n",
       "test@test.com                           18\n",
       "support@ovh.com                         17\n",
       "noreply@envato.com                      17\n",
       "contact@company.com                     17\n",
       "edconcept24@gmail.com                   16\n",
       "dtype: int64"
      ]
     },
     "execution_count": 16,
     "metadata": {},
     "output_type": "execute_result"
    }
   ],
   "source": [
    "email_list.value_counts()[:20]"
   ]
  },
  {
   "cell_type": "code",
   "execution_count": 17,
   "id": "12f35e27",
   "metadata": {},
   "outputs": [
    {
     "data": {
      "text/plain": [
       "email                                               \n",
       "ihsan.bayoglu@gmail.com                                 1\n",
       "ihsan.poyraz@teamneunzehn.at                            1\n",
       "iimaumehara@gmail.com                                   1\n",
       "iinfo@protech-autoalarm.de                              1\n",
       "ijsrrhb8gdu2rffb1ob1du0u54@group.calendar.google.com    1\n",
       "ikdoemee@boxduurzaam.nl                                 1\n",
       "ikk.serviceteam@ikk-classic.de                          1\n",
       "il@egolook.ru                                           1\n",
       "ilarib@alice.it                                         1\n",
       "iletisim@busraninonerisi.com.tr                         1\n",
       "ilias.benjeddi@rabobank.com                             1\n",
       "ilightfoot@conveyormanagement.com                       1\n",
       "ilinaya@pskovtehgaz.ru                                  1\n",
       "ille@crosseye.de                                        1\n",
       "ilmari.ranta@outlook.com                                1\n",
       "ilona.podgorna@sothebysrealty.com                       1\n",
       "ilse.brouwer@rabobank.com                               1\n",
       "ilsimox@gmail.com                                       1\n",
       "ilyakorneev@mail.ru                                     1\n",
       "請發送電子郵件至communications@logicmanager.com                 1\n",
       "dtype: int64"
      ]
     },
     "execution_count": 17,
     "metadata": {},
     "output_type": "execute_result"
    }
   ],
   "source": [
    "email_list.value_counts()[-20:]"
   ]
  },
  {
   "cell_type": "code",
   "execution_count": 18,
   "id": "4a8eb979",
   "metadata": {},
   "outputs": [],
   "source": [
    "email_freq_counter = email_list.value_counts()"
   ]
  },
  {
   "cell_type": "code",
   "execution_count": 19,
   "id": "d16c914b",
   "metadata": {},
   "outputs": [
    {
     "data": {
      "text/plain": [
       "email                           \n",
       "                                    151870\n",
       "enteryour@addresshere.com              493\n",
       "john@doe.com                            76\n",
       "contact@onlinevisionmarket.com          51\n",
       "webmaster@onlinevisionmarket.com        51\n",
       "ugyfelszolgalat@naih.hu                 38\n",
       "info@company.com                        33\n",
       "youremail@gmail.com                     26\n",
       "example@gmail.com                       26\n",
       "assistance@shopify.com                  25\n",
       "dtype: int64"
      ]
     },
     "execution_count": 19,
     "metadata": {},
     "output_type": "execute_result"
    }
   ],
   "source": [
    "email_freq_counter[:10]"
   ]
  },
  {
   "cell_type": "code",
   "execution_count": 20,
   "id": "8b688dfb",
   "metadata": {},
   "outputs": [
    {
     "data": {
      "text/plain": [
       "17668"
      ]
     },
     "execution_count": 20,
     "metadata": {},
     "output_type": "execute_result"
    }
   ],
   "source": [
    "len(email_freq_counter)"
   ]
  },
  {
   "cell_type": "code",
   "execution_count": null,
   "id": "f94830de",
   "metadata": {},
   "outputs": [],
   "source": []
  },
  {
   "cell_type": "code",
   "execution_count": 21,
   "id": "b87b9c62",
   "metadata": {},
   "outputs": [
    {
     "data": {
      "text/html": [
       "<div>\n",
       "<style scoped>\n",
       "    .dataframe tbody tr th:only-of-type {\n",
       "        vertical-align: middle;\n",
       "    }\n",
       "\n",
       "    .dataframe tbody tr th {\n",
       "        vertical-align: top;\n",
       "    }\n",
       "\n",
       "    .dataframe thead th {\n",
       "        text-align: right;\n",
       "    }\n",
       "</style>\n",
       "<table border=\"1\" class=\"dataframe\">\n",
       "  <thead>\n",
       "    <tr style=\"text-align: right;\">\n",
       "      <th></th>\n",
       "      <th>counts</th>\n",
       "    </tr>\n",
       "    <tr>\n",
       "      <th>unique_values</th>\n",
       "      <th></th>\n",
       "    </tr>\n",
       "  </thead>\n",
       "  <tbody>\n",
       "    <tr>\n",
       "      <th></th>\n",
       "      <td>151870</td>\n",
       "    </tr>\n",
       "    <tr>\n",
       "      <th>enteryour@addresshere.com</th>\n",
       "      <td>493</td>\n",
       "    </tr>\n",
       "    <tr>\n",
       "      <th>john@doe.com</th>\n",
       "      <td>76</td>\n",
       "    </tr>\n",
       "    <tr>\n",
       "      <th>contact@onlinevisionmarket.com</th>\n",
       "      <td>51</td>\n",
       "    </tr>\n",
       "    <tr>\n",
       "      <th>webmaster@onlinevisionmarket.com</th>\n",
       "      <td>51</td>\n",
       "    </tr>\n",
       "    <tr>\n",
       "      <th>...</th>\n",
       "      <td>...</td>\n",
       "    </tr>\n",
       "    <tr>\n",
       "      <th>ilona.podgorna@sothebysrealty.com</th>\n",
       "      <td>1</td>\n",
       "    </tr>\n",
       "    <tr>\n",
       "      <th>ilse.brouwer@rabobank.com</th>\n",
       "      <td>1</td>\n",
       "    </tr>\n",
       "    <tr>\n",
       "      <th>ilsimox@gmail.com</th>\n",
       "      <td>1</td>\n",
       "    </tr>\n",
       "    <tr>\n",
       "      <th>ilyakorneev@mail.ru</th>\n",
       "      <td>1</td>\n",
       "    </tr>\n",
       "    <tr>\n",
       "      <th>請發送電子郵件至communications@logicmanager.com</th>\n",
       "      <td>1</td>\n",
       "    </tr>\n",
       "  </tbody>\n",
       "</table>\n",
       "<p>17668 rows × 1 columns</p>\n",
       "</div>"
      ],
      "text/plain": [
       "                                         counts\n",
       "unique_values                                  \n",
       "                                         151870\n",
       "enteryour@addresshere.com                   493\n",
       "john@doe.com                                 76\n",
       "contact@onlinevisionmarket.com               51\n",
       "webmaster@onlinevisionmarket.com             51\n",
       "...                                         ...\n",
       "ilona.podgorna@sothebysrealty.com             1\n",
       "ilse.brouwer@rabobank.com                     1\n",
       "ilsimox@gmail.com                             1\n",
       "ilyakorneev@mail.ru                           1\n",
       "請發送電子郵件至communications@logicmanager.com       1\n",
       "\n",
       "[17668 rows x 1 columns]"
      ]
     },
     "execution_count": 21,
     "metadata": {},
     "output_type": "execute_result"
    }
   ],
   "source": [
    "email_freq_df = email_freq_counter.rename_axis('unique_values').to_frame(name='counts')\n",
    "email_freq_df"
   ]
  },
  {
   "cell_type": "code",
   "execution_count": 22,
   "id": "ef305390",
   "metadata": {},
   "outputs": [
    {
     "data": {
      "text/plain": [
       "counts\n",
       "1         15327\n",
       "2          1716\n",
       "3           379\n",
       "4           101\n",
       "5            41\n",
       "6            21\n",
       "8            16\n",
       "7            14\n",
       "12            9\n",
       "10            8\n",
       "15            7\n",
       "9             5\n",
       "11            3\n",
       "17            3\n",
       "19            3\n",
       "25            2\n",
       "26            2\n",
       "51            2\n",
       "14            1\n",
       "16            1\n",
       "18            1\n",
       "20            1\n",
       "33            1\n",
       "38            1\n",
       "76            1\n",
       "493           1\n",
       "151870        1\n",
       "dtype: int64"
      ]
     },
     "execution_count": 22,
     "metadata": {},
     "output_type": "execute_result"
    }
   ],
   "source": [
    "email_freq_df.value_counts()"
   ]
  },
  {
   "cell_type": "code",
   "execution_count": 23,
   "id": "71ae4dad",
   "metadata": {},
   "outputs": [
    {
     "name": "stdout",
     "output_type": "stream",
     "text": [
      "    duplication_counts  counts\n",
      "0                    1   15327\n",
      "1                    2    1716\n",
      "2                    3     379\n",
      "3                    4     101\n",
      "4                    5      41\n",
      "5                    6      21\n",
      "6                    8      16\n",
      "7                    7      14\n",
      "8                   12       9\n",
      "9                   10       8\n",
      "10                  15       7\n",
      "11                   9       5\n",
      "12                  11       3\n",
      "13                  17       3\n",
      "14                  19       3\n",
      "15                  25       2\n",
      "16                  26       2\n",
      "17                  51       2\n",
      "18                  14       1\n",
      "19                  16       1\n",
      "20                  18       1\n",
      "21                  20       1\n",
      "22                  33       1\n",
      "23                  38       1\n",
      "24                  76       1\n",
      "25                 493       1\n",
      "26              151870       1\n"
     ]
    }
   ],
   "source": [
    "data = email_freq_df.value_counts().rename_axis('duplication_counts').reset_index(name='counts')\n",
    "pd.set_option('display.max_rows', None)\n",
    "print(data)"
   ]
  },
  {
   "cell_type": "code",
   "execution_count": 24,
   "id": "a0852b88",
   "metadata": {},
   "outputs": [
    {
     "data": {
      "text/plain": [
       "Index(['duplication_counts', 'counts'], dtype='object')"
      ]
     },
     "execution_count": 24,
     "metadata": {},
     "output_type": "execute_result"
    }
   ],
   "source": [
    "data.columns"
   ]
  },
  {
   "cell_type": "code",
   "execution_count": 25,
   "id": "7d26e3b0",
   "metadata": {},
   "outputs": [],
   "source": [
    "import seaborn as sns\n",
    "import matplotlib.pyplot as plt"
   ]
  },
  {
   "cell_type": "code",
   "execution_count": 26,
   "id": "a41efc68",
   "metadata": {},
   "outputs": [
    {
     "data": {
      "text/plain": [
       "<AxesSubplot:xlabel='duplication_counts', ylabel='counts'>"
      ]
     },
     "execution_count": 26,
     "metadata": {},
     "output_type": "execute_result"
    },
    {
     "data": {
      "image/png": "[encoded data removed]",
      "text/plain": [
       "<Figure size 1440x576 with 1 Axes>"
      ]
     },
     "metadata": {
      "needs_background": "light"
     },
     "output_type": "display_data"
    }
   ],
   "source": [
    "plt.figure(figsize=(20,8))\n",
    "sns.barplot(x=data.columns[0],y=data.columns[1],data=data[:20])"
   ]
  },
  {
   "cell_type": "markdown",
   "id": "25f6907f",
   "metadata": {},
   "source": [
    "# collecting dummy emails"
   ]
  },
  {
   "cell_type": "code",
   "execution_count": 27,
   "id": "3c15d2a8",
   "metadata": {},
   "outputs": [],
   "source": [
    "# dummy_email = \n",
    "dummy_email = email_freq_df[email_freq_df[\"counts\"]>=5]"
   ]
  },
  {
   "cell_type": "code",
   "execution_count": 28,
   "id": "30b4068f",
   "metadata": {},
   "outputs": [],
   "source": [
    "dummy_email.reset_index(inplace=True)\n",
    "dummy_email = dummy_email.rename(columns={'unique_values':'emails'})"
   ]
  },
  {
   "cell_type": "code",
   "execution_count": 29,
   "id": "12a50fdb",
   "metadata": {},
   "outputs": [
    {
     "data": {
      "text/plain": [
       "0                                                       \n",
       "1                              enteryour@addresshere.com\n",
       "2                                           john@doe.com\n",
       "3                         contact@onlinevisionmarket.com\n",
       "4                       webmaster@onlinevisionmarket.com\n",
       "5                                ugyfelszolgalat@naih.hu\n",
       "6                                       info@company.com\n",
       "7                                    youremail@gmail.com\n",
       "8                                      example@gmail.com\n",
       "9                                 assistance@shopify.com\n",
       "10                              mllegeorgesand@gmail.com\n",
       "11                                  su-email@ejemplo.com\n",
       "12                                     support@gmail.com\n",
       "13                               masterpost@sekurpro.com\n",
       "14                                   privacy@twitter.com\n",
       "15                                         test@test.com\n",
       "16                                       support@ovh.com\n",
       "17                                    noreply@envato.com\n",
       "18                                   contact@company.com\n",
       "19                                 edconcept24@gmail.com\n",
       "20                                 inquiries@company.com\n",
       "21                                  info@yourcompany.com\n",
       "22                                 jean.dupont@gmail.com\n",
       "23                              info@digital-fastlane.de\n",
       "24                                  contacts@company.com\n",
       "25                                       email@gmail.com\n",
       "26                                     johndoe@gmail.com\n",
       "27                                   contact@contact.com\n",
       "28                               admin@savagebull.com.au\n",
       "29                                      contact@info.com\n",
       "30                                  hello@favethemes.com\n",
       "31                                        jp@anakena.com\n",
       "32                               contato@grupodpg.com.br\n",
       "33                                  support@vikinger.com\n",
       "34                                       j.doe@inbox.com\n",
       "35                                office@yourwebsite.com\n",
       "36                        mail@verbraucher-schlichter.de\n",
       "37                                    info@economist.com\n",
       "38                             mustermann@musterfirma.de\n",
       "39                                 support@economist.com\n",
       "40                           webadmin@wordpressexpres.pl\n",
       "41     605a7baede844d278b89dc95ae0a9123@sentry-next.w...\n",
       "42                                  info@bold-themes.com\n",
       "43                                        hello@divi.edu\n",
       "44                                admin@totalwptheme.com\n",
       "45                           zamawiam@wordpressexpres.pl\n",
       "46                            tu-e-mail-real@ejemplo.com\n",
       "47                                 hello@dream-theme.com\n",
       "48                                        john@gmail.com\n",
       "49                                       info@google.com\n",
       "50                                    support@google.com\n",
       "51                                   support@company.com\n",
       "52                                     info@demolink.org\n",
       "53                                 info@bigseoagency.com\n",
       "54                              votre-e-mail@exemple.com\n",
       "55                             vietnambestfood@gmail.com\n",
       "56                            schlichtungsstelle@brak.de\n",
       "57                                      name@company.com\n",
       "58                                   office@sd-law.co.il\n",
       "59                                 hello@themenectar.com\n",
       "60                                 contact@intecmedia.fr\n",
       "61                               comparcomtech@gmail.com\n",
       "62                                 diviflowers@gmail.com\n",
       "63                           divi-construction@gmail.com\n",
       "64                                  info@your-domain.com\n",
       "65                                       contact@ovh.com\n",
       "66                                     sample@sample.com\n",
       "67                                   contact@support.com\n",
       "68                                         max@muster.de\n",
       "69                                   info@alchemists.com\n",
       "70                                    info@topdoctors.es\n",
       "71                                      support@test.com\n",
       "72                                        test@gmail.com\n",
       "73                                        info@lzk-bw.de\n",
       "74                                    info@tarifcheck.de\n",
       "75                                     email@address.com\n",
       "76                                        email@email.dk\n",
       "77                          schlichtungsstelle@s-d-r.org\n",
       "78                                 info@flexx-hosting.de\n",
       "79                                   support@o2switch.fr\n",
       "80                                        info@gmail.com\n",
       "81                 beschwerde@versicherungsombudsmann.de\n",
       "82                             support@oxygenbuilder.com\n",
       "83                                 chenowith52@gmail.com\n",
       "84                                       admin@admin.com\n",
       "85                                    contact@classe7.fr\n",
       "86                                   support@shopify.com\n",
       "87                                        info@inzite.dk\n",
       "88                             standupforsexed@gmail.com\n",
       "89     785f65520d6648d5b0eb7d6e7c01481d@error-trackin...\n",
       "90                                     janedoe@gmail.com\n",
       "91                                    hello@divijobs.com\n",
       "92                                   support@rstheme.com\n",
       "93                                         dsb@dsb.gv.at\n",
       "94                                        admin@web4u.cz\n",
       "95                            contact@auxane-concept.com\n",
       "96                                  contact@terrancle.fr\n",
       "97                                      info@rpm-mktg.es\n",
       "98                                 bsacks@homebridge.com\n",
       "99                                 info@blocksvalley.com\n",
       "100                                  info@cryptoland.com\n",
       "101                                       git@github.com\n",
       "102                         supportcenter@cryptoland.com\n",
       "103                              info@diviconsulting.com\n",
       "104                                   support@tarhely.eu\n",
       "105                                           ada@ada.lt\n",
       "106                                   traub@mail.huji.il\n",
       "107                                        info@mulla.ir\n",
       "108                           betbahisreklam@hotmail.com\n",
       "109                      ifat.veldershuk@mail.huji.ac.il\n",
       "110                     recordorders@livingpaperfree.com\n",
       "111                               contact@logicsante.com\n",
       "112                                       help@blkrvn.co\n",
       "113                                datenschutz@klarna.de\n",
       "114                              help@brandexponents.com\n",
       "115                                    info@charanga.com\n",
       "116                                 seoims.com@gmail.com\n",
       "117                                       rating@mail.ru\n",
       "118                                         mail@mail.ru\n",
       "119                                    email@ejemplo.com\n",
       "120                             events@retailcouncil.org\n",
       "121                            ruthie.traub@mail.huji.il\n",
       "122                           bekelteto.testulet@bkik.hu\n",
       "123                               commercial@o2switch.fr\n",
       "124                                 courriel@exemple.com\n",
       "125                                  npvjaipur@gmail.com\n",
       "126                             info@elitepresstheme.com\n",
       "127                                hello@deine-domain.de\n",
       "128                                          abc@xyz.com\n",
       "129                        maayan.cohen7@mail.huji.ac.il\n",
       "130                      support@kidfriendlysoftware.com\n",
       "131                                  hello@divicoach.com\n",
       "132                      g.couplet@meilleurs-pretimmo.fr\n",
       "133                                 info@yourwebsite.com\n",
       "134                                      рейтинг@mail.ru\n",
       "135                               potterystudio@divi.com\n",
       "136                                   info@cash-m-box.ru\n",
       "137                                      info@domain.ltd\n",
       "138                              support@clydesmith.club\n",
       "139                                   jacques@martin.com\n",
       "140                                      xxxxx@gmail.com\n",
       "141                                  poststelle@bafin.de\n",
       "142                                     info@collage.com\n",
       "143                             reservation@palmeria.com\n",
       "144                                poststelle@ldi.nrw.de\n",
       "Name: emails, dtype: object"
      ]
     },
     "execution_count": 29,
     "metadata": {},
     "output_type": "execute_result"
    }
   ],
   "source": [
    "dummy_email = dummy_email['emails']\n",
    "dummy_email"
   ]
  },
  {
   "cell_type": "code",
   "execution_count": 30,
   "id": "504c8daf",
   "metadata": {},
   "outputs": [],
   "source": [
    "dummy_email = dummy_email[dummy_email!=\"\"]"
   ]
  },
  {
   "cell_type": "markdown",
   "id": "7aa0a802",
   "metadata": {},
   "source": [
    "# Saving dummy_primary email"
   ]
  },
  {
   "cell_type": "code",
   "execution_count": 31,
   "id": "c45838bd",
   "metadata": {},
   "outputs": [],
   "source": [
    "dummy_email.to_csv('dummy_primary_email.csv',index=False)"
   ]
  },
  {
   "cell_type": "markdown",
   "id": "9b09a652",
   "metadata": {},
   "source": [
    "# Reading dummy email from csv"
   ]
  },
  {
   "cell_type": "code",
   "execution_count": 32,
   "id": "6ce9270e",
   "metadata": {},
   "outputs": [
    {
     "data": {
      "text/html": [
       "<div>\n",
       "<style scoped>\n",
       "    .dataframe tbody tr th:only-of-type {\n",
       "        vertical-align: middle;\n",
       "    }\n",
       "\n",
       "    .dataframe tbody tr th {\n",
       "        vertical-align: top;\n",
       "    }\n",
       "\n",
       "    .dataframe thead th {\n",
       "        text-align: right;\n",
       "    }\n",
       "</style>\n",
       "<table border=\"1\" class=\"dataframe\">\n",
       "  <thead>\n",
       "    <tr style=\"text-align: right;\">\n",
       "      <th></th>\n",
       "      <th>emails</th>\n",
       "    </tr>\n",
       "  </thead>\n",
       "  <tbody>\n",
       "    <tr>\n",
       "      <th>0</th>\n",
       "      <td>enteryour@addresshere.com</td>\n",
       "    </tr>\n",
       "    <tr>\n",
       "      <th>1</th>\n",
       "      <td>john@doe.com</td>\n",
       "    </tr>\n",
       "    <tr>\n",
       "      <th>2</th>\n",
       "      <td>contact@onlinevisionmarket.com</td>\n",
       "    </tr>\n",
       "    <tr>\n",
       "      <th>3</th>\n",
       "      <td>webmaster@onlinevisionmarket.com</td>\n",
       "    </tr>\n",
       "    <tr>\n",
       "      <th>4</th>\n",
       "      <td>ugyfelszolgalat@naih.hu</td>\n",
       "    </tr>\n",
       "    <tr>\n",
       "      <th>5</th>\n",
       "      <td>info@company.com</td>\n",
       "    </tr>\n",
       "    <tr>\n",
       "      <th>6</th>\n",
       "      <td>youremail@gmail.com</td>\n",
       "    </tr>\n",
       "    <tr>\n",
       "      <th>7</th>\n",
       "      <td>example@gmail.com</td>\n",
       "    </tr>\n",
       "    <tr>\n",
       "      <th>8</th>\n",
       "      <td>assistance@shopify.com</td>\n",
       "    </tr>\n",
       "    <tr>\n",
       "      <th>9</th>\n",
       "      <td>mllegeorgesand@gmail.com</td>\n",
       "    </tr>\n",
       "    <tr>\n",
       "      <th>10</th>\n",
       "      <td>su-email@ejemplo.com</td>\n",
       "    </tr>\n",
       "    <tr>\n",
       "      <th>11</th>\n",
       "      <td>support@gmail.com</td>\n",
       "    </tr>\n",
       "    <tr>\n",
       "      <th>12</th>\n",
       "      <td>masterpost@sekurpro.com</td>\n",
       "    </tr>\n",
       "    <tr>\n",
       "      <th>13</th>\n",
       "      <td>privacy@twitter.com</td>\n",
       "    </tr>\n",
       "    <tr>\n",
       "      <th>14</th>\n",
       "      <td>test@test.com</td>\n",
       "    </tr>\n",
       "    <tr>\n",
       "      <th>15</th>\n",
       "      <td>support@ovh.com</td>\n",
       "    </tr>\n",
       "    <tr>\n",
       "      <th>16</th>\n",
       "      <td>noreply@envato.com</td>\n",
       "    </tr>\n",
       "    <tr>\n",
       "      <th>17</th>\n",
       "      <td>contact@company.com</td>\n",
       "    </tr>\n",
       "    <tr>\n",
       "      <th>18</th>\n",
       "      <td>edconcept24@gmail.com</td>\n",
       "    </tr>\n",
       "    <tr>\n",
       "      <th>19</th>\n",
       "      <td>inquiries@company.com</td>\n",
       "    </tr>\n",
       "    <tr>\n",
       "      <th>20</th>\n",
       "      <td>info@yourcompany.com</td>\n",
       "    </tr>\n",
       "    <tr>\n",
       "      <th>21</th>\n",
       "      <td>jean.dupont@gmail.com</td>\n",
       "    </tr>\n",
       "    <tr>\n",
       "      <th>22</th>\n",
       "      <td>info@digital-fastlane.de</td>\n",
       "    </tr>\n",
       "    <tr>\n",
       "      <th>23</th>\n",
       "      <td>contacts@company.com</td>\n",
       "    </tr>\n",
       "    <tr>\n",
       "      <th>24</th>\n",
       "      <td>email@gmail.com</td>\n",
       "    </tr>\n",
       "    <tr>\n",
       "      <th>25</th>\n",
       "      <td>johndoe@gmail.com</td>\n",
       "    </tr>\n",
       "    <tr>\n",
       "      <th>26</th>\n",
       "      <td>contact@contact.com</td>\n",
       "    </tr>\n",
       "    <tr>\n",
       "      <th>27</th>\n",
       "      <td>admin@savagebull.com.au</td>\n",
       "    </tr>\n",
       "    <tr>\n",
       "      <th>28</th>\n",
       "      <td>contact@info.com</td>\n",
       "    </tr>\n",
       "    <tr>\n",
       "      <th>29</th>\n",
       "      <td>hello@favethemes.com</td>\n",
       "    </tr>\n",
       "    <tr>\n",
       "      <th>30</th>\n",
       "      <td>jp@anakena.com</td>\n",
       "    </tr>\n",
       "    <tr>\n",
       "      <th>31</th>\n",
       "      <td>contato@grupodpg.com.br</td>\n",
       "    </tr>\n",
       "    <tr>\n",
       "      <th>32</th>\n",
       "      <td>support@vikinger.com</td>\n",
       "    </tr>\n",
       "    <tr>\n",
       "      <th>33</th>\n",
       "      <td>j.doe@inbox.com</td>\n",
       "    </tr>\n",
       "    <tr>\n",
       "      <th>34</th>\n",
       "      <td>office@yourwebsite.com</td>\n",
       "    </tr>\n",
       "    <tr>\n",
       "      <th>35</th>\n",
       "      <td>mail@verbraucher-schlichter.de</td>\n",
       "    </tr>\n",
       "    <tr>\n",
       "      <th>36</th>\n",
       "      <td>info@economist.com</td>\n",
       "    </tr>\n",
       "    <tr>\n",
       "      <th>37</th>\n",
       "      <td>mustermann@musterfirma.de</td>\n",
       "    </tr>\n",
       "    <tr>\n",
       "      <th>38</th>\n",
       "      <td>support@economist.com</td>\n",
       "    </tr>\n",
       "    <tr>\n",
       "      <th>39</th>\n",
       "      <td>webadmin@wordpressexpres.pl</td>\n",
       "    </tr>\n",
       "    <tr>\n",
       "      <th>40</th>\n",
       "      <td>605a7baede844d278b89dc95ae0a9123@sentry-next.w...</td>\n",
       "    </tr>\n",
       "    <tr>\n",
       "      <th>41</th>\n",
       "      <td>info@bold-themes.com</td>\n",
       "    </tr>\n",
       "    <tr>\n",
       "      <th>42</th>\n",
       "      <td>hello@divi.edu</td>\n",
       "    </tr>\n",
       "    <tr>\n",
       "      <th>43</th>\n",
       "      <td>admin@totalwptheme.com</td>\n",
       "    </tr>\n",
       "    <tr>\n",
       "      <th>44</th>\n",
       "      <td>zamawiam@wordpressexpres.pl</td>\n",
       "    </tr>\n",
       "    <tr>\n",
       "      <th>45</th>\n",
       "      <td>tu-e-mail-real@ejemplo.com</td>\n",
       "    </tr>\n",
       "    <tr>\n",
       "      <th>46</th>\n",
       "      <td>hello@dream-theme.com</td>\n",
       "    </tr>\n",
       "    <tr>\n",
       "      <th>47</th>\n",
       "      <td>john@gmail.com</td>\n",
       "    </tr>\n",
       "    <tr>\n",
       "      <th>48</th>\n",
       "      <td>info@google.com</td>\n",
       "    </tr>\n",
       "    <tr>\n",
       "      <th>49</th>\n",
       "      <td>support@google.com</td>\n",
       "    </tr>\n",
       "    <tr>\n",
       "      <th>50</th>\n",
       "      <td>support@company.com</td>\n",
       "    </tr>\n",
       "    <tr>\n",
       "      <th>51</th>\n",
       "      <td>info@demolink.org</td>\n",
       "    </tr>\n",
       "    <tr>\n",
       "      <th>52</th>\n",
       "      <td>info@bigseoagency.com</td>\n",
       "    </tr>\n",
       "    <tr>\n",
       "      <th>53</th>\n",
       "      <td>votre-e-mail@exemple.com</td>\n",
       "    </tr>\n",
       "    <tr>\n",
       "      <th>54</th>\n",
       "      <td>vietnambestfood@gmail.com</td>\n",
       "    </tr>\n",
       "    <tr>\n",
       "      <th>55</th>\n",
       "      <td>schlichtungsstelle@brak.de</td>\n",
       "    </tr>\n",
       "    <tr>\n",
       "      <th>56</th>\n",
       "      <td>name@company.com</td>\n",
       "    </tr>\n",
       "    <tr>\n",
       "      <th>57</th>\n",
       "      <td>office@sd-law.co.il</td>\n",
       "    </tr>\n",
       "    <tr>\n",
       "      <th>58</th>\n",
       "      <td>hello@themenectar.com</td>\n",
       "    </tr>\n",
       "    <tr>\n",
       "      <th>59</th>\n",
       "      <td>contact@intecmedia.fr</td>\n",
       "    </tr>\n",
       "    <tr>\n",
       "      <th>60</th>\n",
       "      <td>comparcomtech@gmail.com</td>\n",
       "    </tr>\n",
       "    <tr>\n",
       "      <th>61</th>\n",
       "      <td>diviflowers@gmail.com</td>\n",
       "    </tr>\n",
       "    <tr>\n",
       "      <th>62</th>\n",
       "      <td>divi-construction@gmail.com</td>\n",
       "    </tr>\n",
       "    <tr>\n",
       "      <th>63</th>\n",
       "      <td>info@your-domain.com</td>\n",
       "    </tr>\n",
       "    <tr>\n",
       "      <th>64</th>\n",
       "      <td>contact@ovh.com</td>\n",
       "    </tr>\n",
       "    <tr>\n",
       "      <th>65</th>\n",
       "      <td>sample@sample.com</td>\n",
       "    </tr>\n",
       "    <tr>\n",
       "      <th>66</th>\n",
       "      <td>contact@support.com</td>\n",
       "    </tr>\n",
       "    <tr>\n",
       "      <th>67</th>\n",
       "      <td>max@muster.de</td>\n",
       "    </tr>\n",
       "    <tr>\n",
       "      <th>68</th>\n",
       "      <td>info@alchemists.com</td>\n",
       "    </tr>\n",
       "    <tr>\n",
       "      <th>69</th>\n",
       "      <td>info@topdoctors.es</td>\n",
       "    </tr>\n",
       "    <tr>\n",
       "      <th>70</th>\n",
       "      <td>support@test.com</td>\n",
       "    </tr>\n",
       "    <tr>\n",
       "      <th>71</th>\n",
       "      <td>test@gmail.com</td>\n",
       "    </tr>\n",
       "    <tr>\n",
       "      <th>72</th>\n",
       "      <td>info@lzk-bw.de</td>\n",
       "    </tr>\n",
       "    <tr>\n",
       "      <th>73</th>\n",
       "      <td>info@tarifcheck.de</td>\n",
       "    </tr>\n",
       "    <tr>\n",
       "      <th>74</th>\n",
       "      <td>email@address.com</td>\n",
       "    </tr>\n",
       "    <tr>\n",
       "      <th>75</th>\n",
       "      <td>email@email.dk</td>\n",
       "    </tr>\n",
       "    <tr>\n",
       "      <th>76</th>\n",
       "      <td>schlichtungsstelle@s-d-r.org</td>\n",
       "    </tr>\n",
       "    <tr>\n",
       "      <th>77</th>\n",
       "      <td>info@flexx-hosting.de</td>\n",
       "    </tr>\n",
       "    <tr>\n",
       "      <th>78</th>\n",
       "      <td>support@o2switch.fr</td>\n",
       "    </tr>\n",
       "    <tr>\n",
       "      <th>79</th>\n",
       "      <td>info@gmail.com</td>\n",
       "    </tr>\n",
       "    <tr>\n",
       "      <th>80</th>\n",
       "      <td>beschwerde@versicherungsombudsmann.de</td>\n",
       "    </tr>\n",
       "    <tr>\n",
       "      <th>81</th>\n",
       "      <td>support@oxygenbuilder.com</td>\n",
       "    </tr>\n",
       "    <tr>\n",
       "      <th>82</th>\n",
       "      <td>chenowith52@gmail.com</td>\n",
       "    </tr>\n",
       "    <tr>\n",
       "      <th>83</th>\n",
       "      <td>admin@admin.com</td>\n",
       "    </tr>\n",
       "    <tr>\n",
       "      <th>84</th>\n",
       "      <td>contact@classe7.fr</td>\n",
       "    </tr>\n",
       "    <tr>\n",
       "      <th>85</th>\n",
       "      <td>support@shopify.com</td>\n",
       "    </tr>\n",
       "    <tr>\n",
       "      <th>86</th>\n",
       "      <td>info@inzite.dk</td>\n",
       "    </tr>\n",
       "    <tr>\n",
       "      <th>87</th>\n",
       "      <td>standupforsexed@gmail.com</td>\n",
       "    </tr>\n",
       "    <tr>\n",
       "      <th>88</th>\n",
       "      <td>785f65520d6648d5b0eb7d6e7c01481d@error-trackin...</td>\n",
       "    </tr>\n",
       "    <tr>\n",
       "      <th>89</th>\n",
       "      <td>janedoe@gmail.com</td>\n",
       "    </tr>\n",
       "    <tr>\n",
       "      <th>90</th>\n",
       "      <td>hello@divijobs.com</td>\n",
       "    </tr>\n",
       "    <tr>\n",
       "      <th>91</th>\n",
       "      <td>support@rstheme.com</td>\n",
       "    </tr>\n",
       "    <tr>\n",
       "      <th>92</th>\n",
       "      <td>dsb@dsb.gv.at</td>\n",
       "    </tr>\n",
       "    <tr>\n",
       "      <th>93</th>\n",
       "      <td>admin@web4u.cz</td>\n",
       "    </tr>\n",
       "    <tr>\n",
       "      <th>94</th>\n",
       "      <td>contact@auxane-concept.com</td>\n",
       "    </tr>\n",
       "    <tr>\n",
       "      <th>95</th>\n",
       "      <td>contact@terrancle.fr</td>\n",
       "    </tr>\n",
       "    <tr>\n",
       "      <th>96</th>\n",
       "      <td>info@rpm-mktg.es</td>\n",
       "    </tr>\n",
       "    <tr>\n",
       "      <th>97</th>\n",
       "      <td>bsacks@homebridge.com</td>\n",
       "    </tr>\n",
       "    <tr>\n",
       "      <th>98</th>\n",
       "      <td>info@blocksvalley.com</td>\n",
       "    </tr>\n",
       "    <tr>\n",
       "      <th>99</th>\n",
       "      <td>info@cryptoland.com</td>\n",
       "    </tr>\n",
       "    <tr>\n",
       "      <th>100</th>\n",
       "      <td>git@github.com</td>\n",
       "    </tr>\n",
       "    <tr>\n",
       "      <th>101</th>\n",
       "      <td>supportcenter@cryptoland.com</td>\n",
       "    </tr>\n",
       "    <tr>\n",
       "      <th>102</th>\n",
       "      <td>info@diviconsulting.com</td>\n",
       "    </tr>\n",
       "    <tr>\n",
       "      <th>103</th>\n",
       "      <td>support@tarhely.eu</td>\n",
       "    </tr>\n",
       "    <tr>\n",
       "      <th>104</th>\n",
       "      <td>ada@ada.lt</td>\n",
       "    </tr>\n",
       "    <tr>\n",
       "      <th>105</th>\n",
       "      <td>traub@mail.huji.il</td>\n",
       "    </tr>\n",
       "    <tr>\n",
       "      <th>106</th>\n",
       "      <td>info@mulla.ir</td>\n",
       "    </tr>\n",
       "    <tr>\n",
       "      <th>107</th>\n",
       "      <td>betbahisreklam@hotmail.com</td>\n",
       "    </tr>\n",
       "    <tr>\n",
       "      <th>108</th>\n",
       "      <td>ifat.veldershuk@mail.huji.ac.il</td>\n",
       "    </tr>\n",
       "    <tr>\n",
       "      <th>109</th>\n",
       "      <td>recordorders@livingpaperfree.com</td>\n",
       "    </tr>\n",
       "    <tr>\n",
       "      <th>110</th>\n",
       "      <td>contact@logicsante.com</td>\n",
       "    </tr>\n",
       "    <tr>\n",
       "      <th>111</th>\n",
       "      <td>help@blkrvn.co</td>\n",
       "    </tr>\n",
       "    <tr>\n",
       "      <th>112</th>\n",
       "      <td>datenschutz@klarna.de</td>\n",
       "    </tr>\n",
       "    <tr>\n",
       "      <th>113</th>\n",
       "      <td>help@brandexponents.com</td>\n",
       "    </tr>\n",
       "    <tr>\n",
       "      <th>114</th>\n",
       "      <td>info@charanga.com</td>\n",
       "    </tr>\n",
       "    <tr>\n",
       "      <th>115</th>\n",
       "      <td>seoims.com@gmail.com</td>\n",
       "    </tr>\n",
       "    <tr>\n",
       "      <th>116</th>\n",
       "      <td>rating@mail.ru</td>\n",
       "    </tr>\n",
       "    <tr>\n",
       "      <th>117</th>\n",
       "      <td>mail@mail.ru</td>\n",
       "    </tr>\n",
       "    <tr>\n",
       "      <th>118</th>\n",
       "      <td>email@ejemplo.com</td>\n",
       "    </tr>\n",
       "    <tr>\n",
       "      <th>119</th>\n",
       "      <td>events@retailcouncil.org</td>\n",
       "    </tr>\n",
       "    <tr>\n",
       "      <th>120</th>\n",
       "      <td>ruthie.traub@mail.huji.il</td>\n",
       "    </tr>\n",
       "    <tr>\n",
       "      <th>121</th>\n",
       "      <td>bekelteto.testulet@bkik.hu</td>\n",
       "    </tr>\n",
       "    <tr>\n",
       "      <th>122</th>\n",
       "      <td>commercial@o2switch.fr</td>\n",
       "    </tr>\n",
       "    <tr>\n",
       "      <th>123</th>\n",
       "      <td>courriel@exemple.com</td>\n",
       "    </tr>\n",
       "    <tr>\n",
       "      <th>124</th>\n",
       "      <td>npvjaipur@gmail.com</td>\n",
       "    </tr>\n",
       "    <tr>\n",
       "      <th>125</th>\n",
       "      <td>info@elitepresstheme.com</td>\n",
       "    </tr>\n",
       "    <tr>\n",
       "      <th>126</th>\n",
       "      <td>hello@deine-domain.de</td>\n",
       "    </tr>\n",
       "    <tr>\n",
       "      <th>127</th>\n",
       "      <td>abc@xyz.com</td>\n",
       "    </tr>\n",
       "    <tr>\n",
       "      <th>128</th>\n",
       "      <td>maayan.cohen7@mail.huji.ac.il</td>\n",
       "    </tr>\n",
       "    <tr>\n",
       "      <th>129</th>\n",
       "      <td>support@kidfriendlysoftware.com</td>\n",
       "    </tr>\n",
       "    <tr>\n",
       "      <th>130</th>\n",
       "      <td>hello@divicoach.com</td>\n",
       "    </tr>\n",
       "    <tr>\n",
       "      <th>131</th>\n",
       "      <td>g.couplet@meilleurs-pretimmo.fr</td>\n",
       "    </tr>\n",
       "    <tr>\n",
       "      <th>132</th>\n",
       "      <td>info@yourwebsite.com</td>\n",
       "    </tr>\n",
       "    <tr>\n",
       "      <th>133</th>\n",
       "      <td>рейтинг@mail.ru</td>\n",
       "    </tr>\n",
       "    <tr>\n",
       "      <th>134</th>\n",
       "      <td>potterystudio@divi.com</td>\n",
       "    </tr>\n",
       "    <tr>\n",
       "      <th>135</th>\n",
       "      <td>info@cash-m-box.ru</td>\n",
       "    </tr>\n",
       "    <tr>\n",
       "      <th>136</th>\n",
       "      <td>info@domain.ltd</td>\n",
       "    </tr>\n",
       "    <tr>\n",
       "      <th>137</th>\n",
       "      <td>support@clydesmith.club</td>\n",
       "    </tr>\n",
       "    <tr>\n",
       "      <th>138</th>\n",
       "      <td>jacques@martin.com</td>\n",
       "    </tr>\n",
       "    <tr>\n",
       "      <th>139</th>\n",
       "      <td>xxxxx@gmail.com</td>\n",
       "    </tr>\n",
       "    <tr>\n",
       "      <th>140</th>\n",
       "      <td>poststelle@bafin.de</td>\n",
       "    </tr>\n",
       "    <tr>\n",
       "      <th>141</th>\n",
       "      <td>info@collage.com</td>\n",
       "    </tr>\n",
       "    <tr>\n",
       "      <th>142</th>\n",
       "      <td>reservation@palmeria.com</td>\n",
       "    </tr>\n",
       "    <tr>\n",
       "      <th>143</th>\n",
       "      <td>poststelle@ldi.nrw.de</td>\n",
       "    </tr>\n",
       "  </tbody>\n",
       "</table>\n",
       "</div>"
      ],
      "text/plain": [
       "                                                emails\n",
       "0                            enteryour@addresshere.com\n",
       "1                                         john@doe.com\n",
       "2                       contact@onlinevisionmarket.com\n",
       "3                     webmaster@onlinevisionmarket.com\n",
       "4                              ugyfelszolgalat@naih.hu\n",
       "5                                     info@company.com\n",
       "6                                  youremail@gmail.com\n",
       "7                                    example@gmail.com\n",
       "8                               assistance@shopify.com\n",
       "9                             mllegeorgesand@gmail.com\n",
       "10                                su-email@ejemplo.com\n",
       "11                                   support@gmail.com\n",
       "12                             masterpost@sekurpro.com\n",
       "13                                 privacy@twitter.com\n",
       "14                                       test@test.com\n",
       "15                                     support@ovh.com\n",
       "16                                  noreply@envato.com\n",
       "17                                 contact@company.com\n",
       "18                               edconcept24@gmail.com\n",
       "19                               inquiries@company.com\n",
       "20                                info@yourcompany.com\n",
       "21                               jean.dupont@gmail.com\n",
       "22                            info@digital-fastlane.de\n",
       "23                                contacts@company.com\n",
       "24                                     email@gmail.com\n",
       "25                                   johndoe@gmail.com\n",
       "26                                 contact@contact.com\n",
       "27                             admin@savagebull.com.au\n",
       "28                                    contact@info.com\n",
       "29                                hello@favethemes.com\n",
       "30                                      jp@anakena.com\n",
       "31                             contato@grupodpg.com.br\n",
       "32                                support@vikinger.com\n",
       "33                                     j.doe@inbox.com\n",
       "34                              office@yourwebsite.com\n",
       "35                      mail@verbraucher-schlichter.de\n",
       "36                                  info@economist.com\n",
       "37                           mustermann@musterfirma.de\n",
       "38                               support@economist.com\n",
       "39                         webadmin@wordpressexpres.pl\n",
       "40   605a7baede844d278b89dc95ae0a9123@sentry-next.w...\n",
       "41                                info@bold-themes.com\n",
       "42                                      hello@divi.edu\n",
       "43                              admin@totalwptheme.com\n",
       "44                         zamawiam@wordpressexpres.pl\n",
       "45                          tu-e-mail-real@ejemplo.com\n",
       "46                               hello@dream-theme.com\n",
       "47                                      john@gmail.com\n",
       "48                                     info@google.com\n",
       "49                                  support@google.com\n",
       "50                                 support@company.com\n",
       "51                                   info@demolink.org\n",
       "52                               info@bigseoagency.com\n",
       "53                            votre-e-mail@exemple.com\n",
       "54                           vietnambestfood@gmail.com\n",
       "55                          schlichtungsstelle@brak.de\n",
       "56                                    name@company.com\n",
       "57                                 office@sd-law.co.il\n",
       "58                               hello@themenectar.com\n",
       "59                               contact@intecmedia.fr\n",
       "60                             comparcomtech@gmail.com\n",
       "61                               diviflowers@gmail.com\n",
       "62                         divi-construction@gmail.com\n",
       "63                                info@your-domain.com\n",
       "64                                     contact@ovh.com\n",
       "65                                   sample@sample.com\n",
       "66                                 contact@support.com\n",
       "67                                       max@muster.de\n",
       "68                                 info@alchemists.com\n",
       "69                                  info@topdoctors.es\n",
       "70                                    support@test.com\n",
       "71                                      test@gmail.com\n",
       "72                                      info@lzk-bw.de\n",
       "73                                  info@tarifcheck.de\n",
       "74                                   email@address.com\n",
       "75                                      email@email.dk\n",
       "76                        schlichtungsstelle@s-d-r.org\n",
       "77                               info@flexx-hosting.de\n",
       "78                                 support@o2switch.fr\n",
       "79                                      info@gmail.com\n",
       "80               beschwerde@versicherungsombudsmann.de\n",
       "81                           support@oxygenbuilder.com\n",
       "82                               chenowith52@gmail.com\n",
       "83                                     admin@admin.com\n",
       "84                                  contact@classe7.fr\n",
       "85                                 support@shopify.com\n",
       "86                                      info@inzite.dk\n",
       "87                           standupforsexed@gmail.com\n",
       "88   785f65520d6648d5b0eb7d6e7c01481d@error-trackin...\n",
       "89                                   janedoe@gmail.com\n",
       "90                                  hello@divijobs.com\n",
       "91                                 support@rstheme.com\n",
       "92                                       dsb@dsb.gv.at\n",
       "93                                      admin@web4u.cz\n",
       "94                          contact@auxane-concept.com\n",
       "95                                contact@terrancle.fr\n",
       "96                                    info@rpm-mktg.es\n",
       "97                               bsacks@homebridge.com\n",
       "98                               info@blocksvalley.com\n",
       "99                                 info@cryptoland.com\n",
       "100                                     git@github.com\n",
       "101                       supportcenter@cryptoland.com\n",
       "102                            info@diviconsulting.com\n",
       "103                                 support@tarhely.eu\n",
       "104                                         ada@ada.lt\n",
       "105                                 traub@mail.huji.il\n",
       "106                                      info@mulla.ir\n",
       "107                         betbahisreklam@hotmail.com\n",
       "108                    ifat.veldershuk@mail.huji.ac.il\n",
       "109                   recordorders@livingpaperfree.com\n",
       "110                             contact@logicsante.com\n",
       "111                                     help@blkrvn.co\n",
       "112                              datenschutz@klarna.de\n",
       "113                            help@brandexponents.com\n",
       "114                                  info@charanga.com\n",
       "115                               seoims.com@gmail.com\n",
       "116                                     rating@mail.ru\n",
       "117                                       mail@mail.ru\n",
       "118                                  email@ejemplo.com\n",
       "119                           events@retailcouncil.org\n",
       "120                          ruthie.traub@mail.huji.il\n",
       "121                         bekelteto.testulet@bkik.hu\n",
       "122                             commercial@o2switch.fr\n",
       "123                               courriel@exemple.com\n",
       "124                                npvjaipur@gmail.com\n",
       "125                           info@elitepresstheme.com\n",
       "126                              hello@deine-domain.de\n",
       "127                                        abc@xyz.com\n",
       "128                      maayan.cohen7@mail.huji.ac.il\n",
       "129                    support@kidfriendlysoftware.com\n",
       "130                                hello@divicoach.com\n",
       "131                    g.couplet@meilleurs-pretimmo.fr\n",
       "132                               info@yourwebsite.com\n",
       "133                                    рейтинг@mail.ru\n",
       "134                             potterystudio@divi.com\n",
       "135                                 info@cash-m-box.ru\n",
       "136                                    info@domain.ltd\n",
       "137                            support@clydesmith.club\n",
       "138                                 jacques@martin.com\n",
       "139                                    xxxxx@gmail.com\n",
       "140                                poststelle@bafin.de\n",
       "141                                   info@collage.com\n",
       "142                           reservation@palmeria.com\n",
       "143                              poststelle@ldi.nrw.de"
      ]
     },
     "execution_count": 32,
     "metadata": {},
     "output_type": "execute_result"
    }
   ],
   "source": [
    "dummy_email = pd.read_csv(\"dummy_primary_email.csv\")\n",
    "dummy_email"
   ]
  },
  {
   "cell_type": "markdown",
   "id": "1061d9ab",
   "metadata": {},
   "source": [
    "# Dummy email collector\n"
   ]
  },
  {
   "cell_type": "code",
   "execution_count": 33,
   "id": "1c1cfc1a",
   "metadata": {},
   "outputs": [],
   "source": [
    "email_data = pd.read_csv(\"../email.csv\")"
   ]
  },
  {
   "cell_type": "code",
   "execution_count": 34,
   "id": "4b750ec5",
   "metadata": {},
   "outputs": [],
   "source": [
    "def unpack_list(data,columns=[\"primary_email\",\"secondary_email\"]):\n",
    "    data_list = []\n",
    "    for col in columns:\n",
    "        if col in data.columns:\n",
    "            for item in data[col]:\n",
    "                data_list += item.strip('][').replace('\"',\"\").split(', ')\n",
    "    return data_list"
   ]
  },
  {
   "cell_type": "code",
   "execution_count": 35,
   "id": "3eb0b002",
   "metadata": {},
   "outputs": [],
   "source": [
    "def dummy_email_collector(dataframe,columns=['primary_email','secondary_email'],threshold=20,file_name=\"dummy_email\"):\n",
    "    try:\n",
    "        email_list = unpack_list(dataframe,columns=columns)\n",
    "        print(\"length of total primary email : \",len(email_list))\n",
    "        email_list = pd.DataFrame(email_list,columns=[\"email\"])\n",
    "        email_freq_df = email_list.value_counts().rename_axis('email').to_frame(name='counts')\n",
    "        # dummy_email = \n",
    "        dummy_email = email_freq_df[email_freq_df[\"counts\"]>=threshold]\n",
    "        dummy_email.reset_index(inplace=True)\n",
    "#         dummy_email = dummy_email.rename(columns={'unique_values':'emails'})\n",
    "        dummy_email = dummy_email['email']\n",
    "        dummy_email = dummy_email[dummy_email!=\"\"]\n",
    "        print(\"print length of the dummy emails: \",len(dummy_email))\n",
    "        #saving file\n",
    "        dummy_email.to_csv(f'{file_name}.csv',index=False)\n",
    "        print(\"status:file saved\")\n",
    "    except:\n",
    "        print(\"status: error\")\n",
    "    "
   ]
  },
  {
   "cell_type": "code",
   "execution_count": 36,
   "id": "f608b2a5",
   "metadata": {},
   "outputs": [
    {
     "name": "stdout",
     "output_type": "stream",
     "text": [
      "length of total primary email :  261051\n",
      "print length of the dummy emails:  953\n",
      "status:file saved\n"
     ]
    }
   ],
   "source": [
    "dummy_email_collector(email_data,columns=[\"primary_email\"],threshold=5,file_name=\"dummy_primary_email\")"
   ]
  },
  {
   "cell_type": "code",
   "execution_count": 37,
   "id": "84484d12",
   "metadata": {},
   "outputs": [
    {
     "name": "stdout",
     "output_type": "stream",
     "text": [
      "length of total primary email :  174118\n",
      "print length of the dummy emails:  11\n",
      "status:file saved\n"
     ]
    }
   ],
   "source": [
    "dummy_email_collector(email_data,columns=[\"secondary_email\"],threshold=20,file_name=\"dummy_secondary_emails\")"
   ]
  },
  {
   "cell_type": "code",
   "execution_count": null,
   "id": "ba616ddc",
   "metadata": {},
   "outputs": [],
   "source": []
  },
  {
   "cell_type": "markdown",
   "id": "d090bffc",
   "metadata": {},
   "source": [
    "# Dummy Phone Number Analysis"
   ]
  },
  {
   "cell_type": "code",
   "execution_count": null,
   "id": "5dfb8f83",
   "metadata": {},
   "outputs": [],
   "source": [
    "phone_nums = pd.read_csv(\"../phone.csv\")\n",
    "phone_nums.head()"
   ]
  },
  {
   "cell_type": "code",
   "execution_count": null,
   "id": "aa671057",
   "metadata": {},
   "outputs": [],
   "source": [
    "phone_nums = unpack_list(phone_nums,columns=['primary_phone'])\n",
    "phone_nums = pd.DataFrame(phone_nums,columns=[\"phone\"])"
   ]
  },
  {
   "cell_type": "code",
   "execution_count": null,
   "id": "25d0e117",
   "metadata": {},
   "outputs": [],
   "source": [
    "phone_nums.value_counts()"
   ]
  },
  {
   "cell_type": "code",
   "execution_count": null,
   "id": "41992c37",
   "metadata": {},
   "outputs": [],
   "source": [
    "pd.set_option('display.max_rows', 10)"
   ]
  },
  {
   "cell_type": "code",
   "execution_count": null,
   "id": "2eb61358",
   "metadata": {},
   "outputs": [],
   "source": [
    "phone_freq_df = phone_nums.value_counts().rename_axis('unique_values').to_frame(name='number of duplication')\n",
    "phone_freq_df"
   ]
  },
  {
   "cell_type": "code",
   "execution_count": null,
   "id": "dbb90309",
   "metadata": {},
   "outputs": [],
   "source": [
    "phone_freq_df.value_counts()"
   ]
  },
  {
   "cell_type": "markdown",
   "id": "adb86326",
   "metadata": {},
   "source": [
    "# dummy social link analysis"
   ]
  },
  {
   "cell_type": "code",
   "execution_count": null,
   "id": "5c9d4b1f",
   "metadata": {},
   "outputs": [],
   "source": [
    "social_data = pd.read_csv(\"../profile_entity.csv\")\n",
    "social_data.head()"
   ]
  },
  {
   "cell_type": "code",
   "execution_count": null,
   "id": "a51dd600",
   "metadata": {},
   "outputs": [],
   "source": [
    "unpack_list(social_data,columns=[\"primary_profile\"])"
   ]
  },
  {
   "cell_type": "code",
   "execution_count": null,
   "id": "2123eda9",
   "metadata": {},
   "outputs": [],
   "source": [
    "len(unpack_list(social_data,columns=[\"primary_profile\"]))"
   ]
  },
  {
   "cell_type": "code",
   "execution_count": null,
   "id": "5b85e102",
   "metadata": {},
   "outputs": [],
   "source": [
    "profile_entity = unpack_list(social_data,columns=['primary_profile'])\n",
    "profile_entity = pd.DataFrame(profile_entity,columns=[\"profile\"])"
   ]
  },
  {
   "cell_type": "code",
   "execution_count": null,
   "id": "5441c91a",
   "metadata": {},
   "outputs": [],
   "source": [
    "profile_entity.value_counts()"
   ]
  },
  {
   "cell_type": "markdown",
   "id": "9007fe84",
   "metadata": {},
   "source": [
    "# Collecting dummy phone in csv file"
   ]
  },
  {
   "cell_type": "code",
   "execution_count": null,
   "id": "acf61982",
   "metadata": {},
   "outputs": [],
   "source": [
    "import os\n",
    "import json"
   ]
  },
  {
   "cell_type": "code",
   "execution_count": null,
   "id": "197e00e9",
   "metadata": {},
   "outputs": [],
   "source": [
    "os.listdir()"
   ]
  },
  {
   "cell_type": "code",
   "execution_count": null,
   "id": "cde4d876",
   "metadata": {},
   "outputs": [],
   "source": [
    "def dummy_items_collector(dataframe,columns=['primary_email','secondary_email'],threshold=20,save_to=\"json\",json_file=\"dummy_data.json\"):\n",
    "    kind = columns[0].split('_')[1]\n",
    "    if len(columns)>1:\n",
    "        file_name = \"dummy_\"+str(kind)\n",
    "    else:\n",
    "        file_name=\"dummy_\"+columns[0]\n",
    "    try:\n",
    "        item_list = unpack_list(dataframe,columns=columns)\n",
    "        print(f\"length of total primary {kind} : {len(item_list)}\")\n",
    "        item_list = pd.DataFrame(item_list,columns=[kind])\n",
    "        item_freq_df = item_list.value_counts().rename_axis(kind).to_frame(name='counts')\n",
    "       \n",
    "        dummy_item = item_freq_df[item_freq_df[\"counts\"]>=threshold]\n",
    "        dummy_item.reset_index(inplace=True)\n",
    "\n",
    "        dummy_item = dummy_item[kind]\n",
    "        dummy_item = dummy_item[dummy_item!=\"\"]\n",
    "        print(f\"print length of the dummy {kind}: {len(dummy_item)}\")\n",
    "        #saving file\n",
    "        if save_to == \"csv\":\n",
    "            dummy_item.to_csv(f'{file_name}.csv',index=False)\n",
    "            print(f\" status:file {file_name}.csv saved\")\n",
    "        elif save_to == \"json\":\n",
    "            #reading json file if available\n",
    "            \n",
    "            if json_file not in os.listdir():\n",
    "                with open(json_file,'w') as file:\n",
    "                    file.write(\"{}\")\n",
    "            print(json_file,\"saved\")\n",
    "            with open(json_file,\"r+\") as file:\n",
    "                dummy_data = json.loads(file.read())\n",
    "                if kind not in dummy_data.keys():\n",
    "                    dummy_data[kind]={}\n",
    "                dummy_data[kind][threshold] = list(dummy_item)\n",
    "            #save data\n",
    "            with open(json_file, 'w') as file:  \n",
    "                  json.dump(dummy_data,file)\n",
    "            return dummy_data\n",
    "            \n",
    "    except Exception as e:\n",
    "        print(\"status: error\",e)"
   ]
  },
  {
   "cell_type": "code",
   "execution_count": null,
   "id": "993cac6b",
   "metadata": {},
   "outputs": [],
   "source": [
    "def generate_dummy_json(files=['email.csv','phone.csv',],path=\"../\",columns=['primary','secondary'],threshold_list=[5,20]):\n",
    "    \n",
    "    for file in files:\n",
    "        file_path = path+file\n",
    "        for threshold in threshold_list:\n",
    "            dataframe = pd.read_csv(file_path)\n",
    "            #transform columns value to the dummy_items_collector argument\n",
    "            col_list = []\n",
    "            for col in columns:\n",
    "                col_list.append(col+\"_\"+file.split(\".\")[0])\n",
    "            print(file)\n",
    "            print(col_list)\n",
    "            dummy_items_collector(dataframe,columns=col_list,\n",
    "                                  threshold=threshold,\n",
    "                                  save_to=\"json\")\n",
    "            \n"
   ]
  },
  {
   "cell_type": "code",
   "execution_count": null,
   "id": "c6f5991d",
   "metadata": {},
   "outputs": [],
   "source": [
    "generate_dummy_json(files=['email.csv','phone.csv','profile.csv'])"
   ]
  },
  {
   "cell_type": "code",
   "execution_count": null,
   "id": "6e6d265d",
   "metadata": {},
   "outputs": [],
   "source": [
    "phone_data = pd.read_csv('../phone.csv')\n",
    "phone_data"
   ]
  },
  {
   "cell_type": "code",
   "execution_count": null,
   "id": "4f72af3f",
   "metadata": {},
   "outputs": [],
   "source": [
    "dummy_items_collector(phone_data,columns=[\"primary_phone\",\"secondary_phone\"],threshold=5)"
   ]
  },
  {
   "cell_type": "code",
   "execution_count": null,
   "id": "b9c09b81",
   "metadata": {},
   "outputs": [],
   "source": [
    "# dummy_items_collector(phone_data,columns=[\"secondary_phone\"],threshold=20)"
   ]
  },
  {
   "cell_type": "code",
   "execution_count": null,
   "id": "b0a4780f",
   "metadata": {},
   "outputs": [],
   "source": [
    "pd.read_csv(\"dummy_phone.csv\")"
   ]
  },
  {
   "cell_type": "code",
   "execution_count": null,
   "id": "7f251c74",
   "metadata": {},
   "outputs": [],
   "source": []
  },
  {
   "cell_type": "code",
   "execution_count": null,
   "id": "427c8fb7",
   "metadata": {},
   "outputs": [],
   "source": []
  },
  {
   "cell_type": "code",
   "execution_count": null,
   "id": "6e8b0280",
   "metadata": {},
   "outputs": [],
   "source": []
  },
  {
   "cell_type": "markdown",
   "id": "aac83cce",
   "metadata": {},
   "source": [
    "# dummy_email validator"
   ]
  },
  {
   "cell_type": "code",
   "execution_count": null,
   "id": "87e33e6b",
   "metadata": {},
   "outputs": [],
   "source": [
    "def is_dummy(email_string,kind=\"email\",threshold_value=5,dummy_records=\"dummy_data.json\"):\n",
    "    #loading json file\n",
    "    with open(dummy_records,'r+') as file:\n",
    "        dummy_data = json.loads(file.read())\n",
    "    \n",
    "    if email_string in dummy_data[kind][str(threshold_value)]:\n",
    "        return True\n",
    "    else:\n",
    "        return False"
   ]
  },
  {
   "cell_type": "code",
   "execution_count": null,
   "id": "6e4c6364",
   "metadata": {},
   "outputs": [],
   "source": [
    "is_dummy(\"enteryour@addresshere.com\")"
   ]
  },
  {
   "cell_type": "code",
   "execution_count": null,
   "id": "b7c6b0b2",
   "metadata": {},
   "outputs": [],
   "source": [
    "is_dummy(\"enteryours@addresshere.com\")"
   ]
  },
  {
   "cell_type": "code",
   "execution_count": null,
   "id": "6dc9ca76",
   "metadata": {},
   "outputs": [],
   "source": [
    "is_dummy(\"wordpress\",kind=\"profile\")"
   ]
  },
  {
   "cell_type": "code",
   "execution_count": null,
   "id": "da5de38d",
   "metadata": {},
   "outputs": [],
   "source": [
    "is_dummy(\"unknown\",kind=\"profile\")"
   ]
  },
  {
   "cell_type": "markdown",
   "id": "f9a979e0",
   "metadata": {},
   "source": [
    "# Refactoring the code"
   ]
  },
  {
   "cell_type": "code",
   "execution_count": 38,
   "id": "ce9ed441",
   "metadata": {},
   "outputs": [],
   "source": [
    "import os\n",
    "import json"
   ]
  },
  {
   "cell_type": "code",
   "execution_count": 64,
   "id": "ecb2a58d",
   "metadata": {},
   "outputs": [],
   "source": [
    "def unpack_list(data,columns=[\"primary_email\",\"secondary_email\"]):\n",
    "    data_list = []\n",
    "    for col in columns:\n",
    "        if col in data.columns:\n",
    "            for item in data[col]:\n",
    "                data_list += str(item).strip('][').replace('\"',\"\").split(', ')\n",
    "    return data_list"
   ]
  },
  {
   "cell_type": "code",
   "execution_count": 70,
   "id": "81815227",
   "metadata": {},
   "outputs": [],
   "source": [
    "def dummy_items_collector(dataframe,columns=['primary_email','secondary_email'],threshold=20,save_to=\"json\",json_file=\"dummy_data.json\"):\n",
    "    kind = columns[0].split('_')[1]\n",
    "    if len(columns)>1:\n",
    "        file_name = \"dummy_\"+str(kind)\n",
    "    else:\n",
    "        file_name=\"dummy_\"+columns[0]\n",
    "    try:\n",
    "        item_list = unpack_list(dataframe,columns=columns)\n",
    "        print(f\"length of total {kind} : {len(item_list)}\")\n",
    "        item_list = pd.DataFrame(item_list,columns=[kind])\n",
    "        item_freq_df = item_list.value_counts().rename_axis(kind).to_frame(name='counts')\n",
    "       \n",
    "        dummy_item = item_freq_df[item_freq_df[\"counts\"]>=threshold]\n",
    "        dummy_item.reset_index(inplace=True)\n",
    "\n",
    "        dummy_item = dummy_item[kind]\n",
    "        dummy_item = dummy_item[dummy_item!=\"\"]\n",
    "        print(f\"print length of the dummy {kind}: {len(dummy_item)}\")\n",
    "        #saving file\n",
    "        if save_to == \"csv\":\n",
    "            dummy_item.to_csv(f'{file_name}.csv',index=False)\n",
    "            print(f\" status:file {file_name}.csv saved\")\n",
    "        elif save_to == \"json\":\n",
    "            #reading json file if available\n",
    "            \n",
    "            if json_file not in os.listdir():\n",
    "                with open(json_file,'w') as file:\n",
    "                    file.write(\"{}\")\n",
    "            print(json_file,\"saved\")\n",
    "            with open(json_file,\"r+\") as file:\n",
    "                dummy_data = json.loads(file.read())\n",
    "                if kind not in dummy_data.keys():\n",
    "                    dummy_data[kind]={}\n",
    "                flag = \"primary\" if threshold == 5 else \"secondary\"\n",
    "                dummy_data[kind][flag] = list(dummy_item)\n",
    "            #save data\n",
    "            with open(json_file, 'w') as file:  \n",
    "                  json.dump(dummy_data,file)\n",
    "            return dummy_data\n",
    "            \n",
    "    except Exception as e:\n",
    "        print(\"status: error\",e)"
   ]
  },
  {
   "cell_type": "code",
   "execution_count": 66,
   "id": "343d6e00",
   "metadata": {},
   "outputs": [],
   "source": [
    "def generate_dummy_json(files=['email.csv','phone.csv',\"social.csv\"],path=\"../\",columns=['primary','secondary'],threshold_list=[5,20]):\n",
    "    \n",
    "    for file in files:\n",
    "        file_path = path+file\n",
    "        for threshold in threshold_list:\n",
    "            dataframe = pd.read_csv(file_path,index_col=False)\n",
    "            #transform columns value to map to the dummy_items_collector's columns argument\n",
    "            col_list = []\n",
    "            for col in columns:\n",
    "                col_list.append(col+\"_\"+file.split(\".\")[0])\n",
    "            dummy_items_collector(dataframe,columns=col_list,\n",
    "                                  threshold=threshold,\n",
    "                                  save_to=\"json\")\n",
    "            \n"
   ]
  },
  {
   "cell_type": "code",
   "execution_count": 72,
   "id": "7489b2ac",
   "metadata": {},
   "outputs": [],
   "source": [
    "def is_dummy(item_string,kind=\"email\",subtype=\"primary\",dummy_records=\"dummy_data.json\"):\n",
    "    #loading json file\n",
    "    with open(dummy_records,'r+') as file:\n",
    "        dummy_data = json.loads(file.read())\n",
    "    \n",
    "    if item_string in dummy_data[kind][subtype]:\n",
    "        return True\n",
    "    else:\n",
    "        return False"
   ]
  },
  {
   "cell_type": "code",
   "execution_count": 69,
   "id": "5f59194d",
   "metadata": {},
   "outputs": [
    {
     "name": "stdout",
     "output_type": "stream",
     "text": [
      "length of total primary email : 477274\n",
      "print length of the dummy email: 1220\n",
      "dummy_data.json saved\n",
      "length of total primary email : 477274\n",
      "print length of the dummy email: 133\n",
      "dummy_data.json saved\n",
      "length of total primary phone : 368939\n",
      "print length of the dummy phone: 1161\n",
      "dummy_data.json saved\n",
      "length of total primary phone : 368939\n",
      "print length of the dummy phone: 99\n",
      "dummy_data.json saved\n",
      "length of total primary social : 421447\n",
      "print length of the dummy social: 3403\n",
      "dummy_data.json saved\n",
      "length of total primary social : 421447\n",
      "print length of the dummy social: 241\n",
      "dummy_data.json saved\n"
     ]
    }
   ],
   "source": [
    "#generate dummy_record\n",
    "generate_dummy_json()"
   ]
  },
  {
   "cell_type": "code",
   "execution_count": 73,
   "id": "d42d5e57",
   "metadata": {},
   "outputs": [
    {
     "data": {
      "text/plain": [
       "True"
      ]
     },
     "execution_count": 73,
     "metadata": {},
     "output_type": "execute_result"
    }
   ],
   "source": [
    "is_dummy(item_string=\"iframe_api\",kind=\"social\",subtype=\"primary\")"
   ]
  },
  {
   "cell_type": "code",
   "execution_count": 75,
   "id": "9fecfaea",
   "metadata": {},
   "outputs": [
    {
     "data": {
      "text/plain": [
       "False"
      ]
     },
     "execution_count": 75,
     "metadata": {},
     "output_type": "execute_result"
    }
   ],
   "source": [
    "is_dummy(item_string=\"iframe_apii\",kind=\"social\",subtype=\"secondary\")"
   ]
  },
  {
   "cell_type": "code",
   "execution_count": null,
   "id": "7fd2b937",
   "metadata": {},
   "outputs": [],
   "source": []
  }
 ],
 "metadata": {
  "kernelspec": {
   "display_name": "Python 3 (ipykernel)",
   "language": "python",
   "name": "python3"
  },
  "language_info": {
   "codemirror_mode": {
    "name": "ipython",
    "version": 3
   },
   "file_extension": ".py",
   "mimetype": "text/x-python",
   "name": "python",
   "nbconvert_exporter": "python",
   "pygments_lexer": "ipython3",
   "version": "3.9.7"
  }
 },
 "nbformat": 4,
 "nbformat_minor": 5
}
