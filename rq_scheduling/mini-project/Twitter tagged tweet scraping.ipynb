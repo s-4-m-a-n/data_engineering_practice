{
 "cells": [
  {
   "cell_type": "code",
   "execution_count": 14,
   "id": "fa8cb1ed",
   "metadata": {},
   "outputs": [],
   "source": [
    "import tweepy\n",
    "import configparser\n",
    "import re"
   ]
  },
  {
   "cell_type": "code",
   "execution_count": 2,
   "id": "40feba02",
   "metadata": {},
   "outputs": [
    {
     "data": {
      "text/plain": [
       "['config.ini']"
      ]
     },
     "execution_count": 2,
     "metadata": {},
     "output_type": "execute_result"
    }
   ],
   "source": [
    "#read config\n",
    "CONFIG_FILE = \"config.ini\"\n",
    "config = configparser.ConfigParser()\n",
    "config.read(CONFIG_FILE)"
   ]
  },
  {
   "cell_type": "code",
   "execution_count": 3,
   "id": "41bb43fd",
   "metadata": {
    "scrolled": true
   },
   "outputs": [],
   "source": [
    "api_key = config['twitter']['api_key']\n",
    "api_key_secret = config['twitter']['api_key_secret']\n",
    "access_token = config['twitter']['access_token']\n",
    "access_token_secret = config['twitter']['access_token_secret']\n",
    "bearer_token = config['twitter']['bearer_token']"
   ]
  },
  {
   "cell_type": "code",
   "execution_count": 4,
   "id": "dc1a5a9d",
   "metadata": {},
   "outputs": [
    {
     "data": {
      "text/plain": [
       "'AAAAAAAAAAAAAAAAAAAAAO8EaAEAAAAAt4yKRin9eDbP56x2tA2k3c9oN6Y%3DLIj5n3lkGQYO5O7NSEr224ee1ttZHghhw4yFwQU3ZGhQtdZB0Q'"
      ]
     },
     "execution_count": 4,
     "metadata": {},
     "output_type": "execute_result"
    }
   ],
   "source": [
    "config['twitter']['bearer_token']"
   ]
  },
  {
   "cell_type": "code",
   "execution_count": 5,
   "id": "ea4308df",
   "metadata": {},
   "outputs": [],
   "source": [
    "client = tweepy.Client(bearer_token=bearer_token,\n",
    "                           consumer_key=api_key,\n",
    "                           consumer_secret=api_key_secret,\n",
    "                           access_token=access_token,\n",
    "                           access_token_secret=access_token_secret)"
   ]
  },
  {
   "cell_type": "code",
   "execution_count": 6,
   "id": "f9ffe9bf",
   "metadata": {},
   "outputs": [],
   "source": [
    "# tweets = client.search_recent_tweets(query=\"#motivational_quotes\", max_results=10)\n",
    "# print(tweets)"
   ]
  },
  {
   "cell_type": "code",
   "execution_count": 15,
   "id": "f49c54b2",
   "metadata": {},
   "outputs": [],
   "source": [
    "import re"
   ]
  },
  {
   "cell_type": "code",
   "execution_count": 25,
   "id": "30ecd406",
   "metadata": {},
   "outputs": [
    {
     "data": {
      "text/plain": [
       "'apple'"
      ]
     },
     "execution_count": 25,
     "metadata": {},
     "output_type": "execute_result"
    }
   ],
   "source": [
    "text = r\"apple ball\"\n",
    "pattern = \"(.*) ball\"\n",
    "match = re.search(pattern,text)\n",
    "match.group(1)"
   ]
  },
  {
   "cell_type": "code",
   "execution_count": 16,
   "id": "2f027b0a",
   "metadata": {},
   "outputs": [],
   "source": [
    "def is_tag(string):\n",
    "    tag_pattern = \"#[A-Z|0-9|_]*\"\n",
    "    return bool(re.match(tag_pattern,string))"
   ]
  },
  {
   "cell_type": "code",
   "execution_count": 129,
   "id": "68fb8367",
   "metadata": {},
   "outputs": [],
   "source": [
    "def has_url(string):\n",
    "    url_pattern = \"http[s]{0,1}:\"\n",
    "    return bool(re.search(url_pattern,string))"
   ]
  },
  {
   "cell_type": "code",
   "execution_count": 138,
   "id": "cbe8c6b4",
   "metadata": {},
   "outputs": [
    {
     "data": {
      "text/plain": [
       "True"
      ]
     },
     "execution_count": 138,
     "metadata": {},
     "output_type": "execute_result"
    }
   ],
   "source": [
    "has_url(\"apple https://t.co/BFVvEWQFPN  hi.\\n.\\n\")"
   ]
  },
  {
   "cell_type": "code",
   "execution_count": 188,
   "id": "f50969ba",
   "metadata": {},
   "outputs": [],
   "source": [
    "def normalize_text(string):\n",
    "    noise_pattern = \"[^a-zA-Z0-9-_ ]\"\n",
    "    filtered_string = re.sub(noise_pattern,\"\",string)\n",
    "    #remove multiple whitespaces\n",
    "    filtered_string = \" \".join(filtered_string.split())\n",
    "    #lower case\n",
    "    filtered_string = filtered_string.lower()\n",
    "    return filtered_string"
   ]
  },
  {
   "cell_type": "code",
   "execution_count": 186,
   "id": "ebe5fc87",
   "metadata": {},
   "outputs": [
    {
     "data": {
      "text/plain": [
       "'apple httpstcobfvvewqfpn hi'"
      ]
     },
     "execution_count": 186,
     "metadata": {},
     "output_type": "execute_result"
    }
   ],
   "source": [
    "normalize_text(\"    apple    https://t.co/BFVvEWQFPN  hi.\\n.\\n\")"
   ]
  },
  {
   "cell_type": "code",
   "execution_count": null,
   "id": "7baa6805",
   "metadata": {},
   "outputs": [],
   "source": []
  },
  {
   "cell_type": "code",
   "execution_count": 169,
   "id": "8bfcff0d",
   "metadata": {},
   "outputs": [],
   "source": [
    "def parse_text(text):\n",
    "    \"\"\"return the clean text and hashtags separately\"\"\"\n",
    "    pattern = \"([^#]*)(#.*)\"\n",
    "    match = re.search(pattern,text)\n",
    "    text = match.group(1)\n",
    "    tags = match.group(2).split(\" \")\n",
    "\n",
    "    #removing other thing from the tags\n",
    "    filtered_tags = []\n",
    "    for tag in tags:\n",
    "        if is_tag(tag):\n",
    "            filtered_tags.append(tag)\n",
    "    \n",
    "    return {\"text\":text,\"tags\":filtered_tags}"
   ]
  },
  {
   "cell_type": "code",
   "execution_count": null,
   "id": "8884d7ad",
   "metadata": {},
   "outputs": [],
   "source": []
  },
  {
   "cell_type": "code",
   "execution_count": 98,
   "id": "d6da93b3",
   "metadata": {},
   "outputs": [],
   "source": [
    "import hashlib"
   ]
  },
  {
   "cell_type": "code",
   "execution_count": 99,
   "id": "91847391",
   "metadata": {},
   "outputs": [],
   "source": [
    "def hash_fn(text):\n",
    "    encoded = text.encode()\n",
    "    result = hashlib.sha256(encoded)\n",
    "    return result.hexdigest()"
   ]
  },
  {
   "cell_type": "code",
   "execution_count": null,
   "id": "cc6613f0",
   "metadata": {},
   "outputs": [],
   "source": []
  },
  {
   "cell_type": "code",
   "execution_count": 191,
   "id": "af769537",
   "metadata": {},
   "outputs": [],
   "source": [
    "def get_tweets(client=client,query=\"hello\", max_results=10):\n",
    "    tweets = client.search_recent_tweets(query=\"#motivational_quotes\", max_results=10)\n",
    "    response = {}\n",
    "    if tweets.data:\n",
    "        for tweet in tweets[0]:\n",
    "            if \"@\" in tweet.text or has_url(tweet.text) or len(tweet.text) < 5: #discard tweet that has mentions and urls\n",
    "                continue;\n",
    "            parsed_text = parse_text(tweet.text)\n",
    "            tweet_text = normalize_text(parsed_text[\"text\"])\n",
    "            tweet_hash = hash_fn(tweet_text)\n",
    "            response[tweet_hash] = {\"text\":tweet_text,\"tags\":parsed_text[\"tags\"]}\n",
    "#             response.append({\"id\":tweet_hash,\"tweet\":{\"text\":tweet_text,\"tags\":parsed_text[\"tags\"]}})\n",
    "    return response\n",
    "        "
   ]
  },
  {
   "cell_type": "code",
   "execution_count": 192,
   "id": "dfd978c3",
   "metadata": {},
   "outputs": [
    {
     "data": {
      "text/plain": [
       "{'da1c5b0590b5851b88181ed3a0df0fc9ff9150eb1e0f303babd49ea11bdf55f7': {'text': 'focus on the people who inspire you not the one who annoy you',\n",
       "  'tags': ['#Motivation', '#Quotes', '#Inspiration']},\n",
       " 'c0357d367a3b754c72ff0733d2380c0b9880fbae225482ff3a46301949bf5d29': {'text': 'its never too late to change',\n",
       "  'tags': ['#motivation',\n",
       "   '#dream',\n",
       "   '#goal',\n",
       "   '#goals',\n",
       "   '#dreams',\n",
       "   '#motivationiskey',\n",
       "   '#dreamworks',\n",
       "   '#motivationalpage',\n",
       "   '#motivationnation',\n",
       "   '#dreambody',\n",
       "   '#motivation',\n",
       "   '#motivationalspeech',\n",
       "   '#motivationalspeakers',\n",
       "   '#motivational_quotes',\n",
       "   '#bestiegoals',\n",
       "   '#mymotivation',\n",
       "   '#dreamyart']},\n",
       " '554cfddd8e107a68f159a2c22c545c622039a3e469e8782e7b09e9e128d4fc79': {'text': 'change your mind to change your life',\n",
       "  'tags': ['#motivation',\n",
       "   '#dream',\n",
       "   '#goal',\n",
       "   '#goals',\n",
       "   '#dreams',\n",
       "   '#motivationiskey',\n",
       "   '#dreamworks',\n",
       "   '#motivationalpage',\n",
       "   '#motivationnation',\n",
       "   '#dreambody',\n",
       "   '#motivation',\n",
       "   '#motivationalspeech',\n",
       "   '#motivationalspeakers',\n",
       "   '#motivational_quotes',\n",
       "   '#bestiegoals',\n",
       "   '#mymotivation',\n",
       "   '#dreamyart']}}"
      ]
     },
     "execution_count": 192,
     "metadata": {},
     "output_type": "execute_result"
    }
   ],
   "source": [
    "get_tweets()"
   ]
  },
  {
   "cell_type": "code",
   "execution_count": 119,
   "id": "389ccc1e",
   "metadata": {},
   "outputs": [
    {
     "data": {
      "text/plain": [
       "False"
      ]
     },
     "execution_count": 119,
     "metadata": {},
     "output_type": "execute_result"
    }
   ],
   "source": []
  },
  {
   "cell_type": "code",
   "execution_count": 205,
   "id": "50fd36aa",
   "metadata": {},
   "outputs": [],
   "source": [
    "def normalize_text(string):\n",
    "    noise_pattern = \"[^a-zA-Z0-9-_'\\\"+ ]\"\n",
    "    filtered_string = re.sub(noise_pattern,\"\",string)\n",
    "    return filtered_string"
   ]
  },
  {
   "cell_type": "code",
   "execution_count": 206,
   "id": "e7b6950c",
   "metadata": {},
   "outputs": [
    {
     "data": {
      "text/plain": [
       "' ball  apple\\'s\" + '"
      ]
     },
     "execution_count": 206,
     "metadata": {},
     "output_type": "execute_result"
    }
   ],
   "source": [
    "normalize_text(\" ball  apple's\\\" + \")"
   ]
  },
  {
   "cell_type": "code",
   "execution_count": 196,
   "id": "73d24de5",
   "metadata": {},
   "outputs": [
    {
     "data": {
      "text/plain": [
       "{'x': 2, 'y': 2, 'z': 3}"
      ]
     },
     "execution_count": 196,
     "metadata": {},
     "output_type": "execute_result"
    }
   ],
   "source": [
    "a"
   ]
  },
  {
   "cell_type": "code",
   "execution_count": 197,
   "id": "dd80ee74",
   "metadata": {},
   "outputs": [
    {
     "data": {
      "text/plain": [
       "{'z': 3, 'x': 2}"
      ]
     },
     "execution_count": 197,
     "metadata": {},
     "output_type": "execute_result"
    }
   ],
   "source": [
    "b"
   ]
  },
  {
   "cell_type": "code",
   "execution_count": null,
   "id": "1e94c994",
   "metadata": {},
   "outputs": [],
   "source": []
  }
 ],
 "metadata": {
  "kernelspec": {
   "display_name": "Python 3 (ipykernel)",
   "language": "python",
   "name": "python3"
  },
  "language_info": {
   "codemirror_mode": {
    "name": "ipython",
    "version": 3
   },
   "file_extension": ".py",
   "mimetype": "text/x-python",
   "name": "python",
   "nbconvert_exporter": "python",
   "pygments_lexer": "ipython3",
   "version": "3.9.7"
  }
 },
 "nbformat": 4,
 "nbformat_minor": 5
}
