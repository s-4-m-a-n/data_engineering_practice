{
 "cells": [
  {
   "cell_type": "code",
   "execution_count": 1,
   "id": "d8337dd3",
   "metadata": {},
   "outputs": [],
   "source": [
    "#function that bounds the polygon by a rectangle\n",
    "\n",
    "def find_bounding_rectangle(polygon): #returns a list of rectangle coordinates\n",
    "    # left most line of a rectangle must pass through the left most point of the polygon\n",
    "    left_most = polygon[0]\n",
    "    right_most = polygon[0]\n",
    "    top_most = polygon[0]\n",
    "    bottom_most = polygon[0]\n",
    "    for x,y in polygon:\n",
    "        #left most\n",
    "        if x < left_most[0]:\n",
    "            left_most = (x, y)\n",
    "        #right most\n",
    "        if x > right_most[0]:\n",
    "            right_most = (x, y)\n",
    "        #bottm most\n",
    "        if y > bottom_most[1]:\n",
    "            bottom_most = (x, y)\n",
    "        #top most\n",
    "        if y < top_most[1]:\n",
    "            top_most = (x,y)\n",
    "    #left find the corner point of the rectangle specified by the points of the side\n",
    "    top_left = (left_most[0], top_most[1])\n",
    "    top_right = (right_most[0], top_most[1])\n",
    "    bottom_left = (left_most[0], bottom_most[1])\n",
    "    bottom_right = (right_most[0],bottom_most[1])\n",
    "    \n",
    "    return [top_left, top_right, bottom_right, bottom_left]"
   ]
  },
  {
   "cell_type": "code",
   "execution_count": 2,
   "id": "c1358c25",
   "metadata": {},
   "outputs": [],
   "source": [
    "import math"
   ]
  },
  {
   "cell_type": "code",
   "execution_count": 3,
   "id": "c8ba57a1",
   "metadata": {},
   "outputs": [],
   "source": [
    "def euclidean_distance(p1,p2):\n",
    "    return math.sqrt((p1[0]-p2[0])**2 +(p1[1]-p2[1])**2)"
   ]
  },
  {
   "cell_type": "code",
   "execution_count": 9,
   "id": "03c2d5e7",
   "metadata": {},
   "outputs": [],
   "source": [
    "INT_MAX = 10000\n",
    " \n",
    "# Given three collinear points p, q, r, \n",
    "# the function checks if point q lies\n",
    "# on line segment 'pr'\n",
    "def onSegment(p:tuple, q:tuple, r:tuple) -> bool:\n",
    "     \n",
    "    if ((q[0] <= max(p[0], r[0])) &\n",
    "        (q[0] >= min(p[0], r[0])) &\n",
    "        (q[1] <= max(p[1], r[1])) &\n",
    "        (q[1] >= min(p[1], r[1]))):\n",
    "        return True\n",
    "         \n",
    "    return False\n",
    " \n",
    "# To find orientation of ordered triplet (p, q, r).\n",
    "# The function returns following values\n",
    "# 0 --> p, q and r are collinear\n",
    "# 1 --> Clockwise\n",
    "# 2 --> Counterclockwise\n",
    "def orientation(p:tuple, q:tuple, r:tuple) -> int:\n",
    "     \n",
    "    val = (((q[1] - p[1]) *\n",
    "            (r[0] - q[0])) -\n",
    "           ((q[0] - p[0]) *\n",
    "            (r[1] - q[1])))\n",
    "            \n",
    "    if val == 0:\n",
    "        return 0\n",
    "    if val > 0:\n",
    "        return 1 # Collinear\n",
    "    else:\n",
    "        return 2 # Clock or counterclock\n",
    " \n"
   ]
  },
  {
   "cell_type": "code",
   "execution_count": 10,
   "id": "079ccba7",
   "metadata": {},
   "outputs": [],
   "source": [
    "def doIntersect(p1, q1, p2, q2):\n",
    "     \n",
    "    # Find the four orientations needed for \n",
    "    # general and special cases\n",
    "    o1 = orientation(p1, q1, p2)\n",
    "    o2 = orientation(p1, q1, q2)\n",
    "    o3 = orientation(p2, q2, p1)\n",
    "    o4 = orientation(p2, q2, q1)\n",
    " \n",
    "    # General case\n",
    "    if (o1 != o2) and (o3 != o4):\n",
    "        return True\n",
    "     \n",
    "    # Special Cases\n",
    "    # p1, q1 and p2 are collinear and\n",
    "    # p2 lies on segment p1q1\n",
    "    if (o1 == 0) and (onSegment(p1, p2, q1)):\n",
    "        return True\n",
    " \n",
    "    # p1, q1 and p2 are collinear and\n",
    "    # q2 lies on segment p1q1\n",
    "    if (o2 == 0) and (onSegment(p1, q2, q1)):\n",
    "        return True\n",
    " \n",
    "    # p2, q2 and p1 are collinear and\n",
    "    # p1 lies on segment p2q2\n",
    "    if (o3 == 0) and (onSegment(p2, p1, q2)):\n",
    "        return True\n",
    " \n",
    "    # p2, q2 and q1 are collinear and\n",
    "    # q1 lies on segment p2q2\n",
    "    if (o4 == 0) and (onSegment(p2, q1, q2)):\n",
    "        return True\n",
    " \n",
    "    return False\n",
    " "
   ]
  },
  {
   "cell_type": "code",
   "execution_count": 163,
   "id": "9b658786",
   "metadata": {},
   "outputs": [],
   "source": [
    "# Returns true if the point p lies \n",
    "# inside the polygon[] with n vertices\n",
    "def is_inside_polygon(points:list, p:tuple) -> bool:\n",
    "    INT_MAX = 10000\n",
    "    n = len(points)\n",
    "     \n",
    "    # There must be at least 3 vertices\n",
    "    # in polygon\n",
    "    if n < 3:\n",
    "        return False\n",
    "         \n",
    "    # Create a point for line segment\n",
    "    # from p to infinite\n",
    "    extreme = (INT_MAX, p[1])\n",
    "    count = i = 0\n",
    "     \n",
    "    while True:\n",
    "        next_ = (i + 1) % n\n",
    "         \n",
    "        # Check if the line segment from 'p' to \n",
    "        # 'extreme' intersects with the line \n",
    "        # segment from 'polygon[i]' to 'polygon[next]'\n",
    "        if (doIntersect(points[i],\n",
    "                        points[next_],\n",
    "                        p, extreme)):\n",
    "                             \n",
    "            # If the point 'p' is collinear with line \n",
    "            # segment 'i-next', then check if it lies \n",
    "            # on segment. If it lies, return true, otherwise false\n",
    "            if orientation(points[i], p,\n",
    "                           points[next_]) == 0:\n",
    "                return onSegment(points[i], p,\n",
    "                                 points[next_])\n",
    "                                  \n",
    "            count += 1\n",
    "             \n",
    "        i = next_\n",
    "         \n",
    "        if (i == 0):\n",
    "            break\n",
    "         \n",
    "    # Return true if count is odd, false otherwise\n",
    "    return (count % 2 == 1)\n",
    " "
   ]
  },
  {
   "cell_type": "code",
   "execution_count": 318,
   "id": "6ffabc03",
   "metadata": {},
   "outputs": [],
   "source": [
    "# https://stackoverflow.com/questions/25701346/how-to-check-if-a-circle-lies-inside-of-convex-polygon\n",
    "def are_overlap(circle_center, polygon, radius): # needs to improve\n",
    "    # if the circle_center is inside polygon, they are overlap\n",
    "    \n",
    "    if is_inside_polygon(polygon,(circle_center[0]+radius, circle_center[1])) or\\\n",
    "       is_inside_polygon(polygon,(circle_center[0]-radius, circle_center[1])):\n",
    "        return True\n",
    "   \n",
    "    # if the vertex of a polygon is inside circle, they are overlap\n",
    "     # calculate the distance between polygon vertex and the point if it is less than \n",
    "    # the radius than they are overlapped\n",
    "    for vertex in polygon:\n",
    "        dis = euclidean_distance(vertex,circle_center)\n",
    "        if dis <= radius:  #  overlapped\n",
    "            return True\n",
    "       \n",
    "    return False"
   ]
  },
  {
   "cell_type": "code",
   "execution_count": 319,
   "id": "ac1b36d0",
   "metadata": {},
   "outputs": [],
   "source": [
    "def is_exceed(point, rectangle,radius): # needs to refactor\n",
    "    top_exceed = False\n",
    "    left_exceed = False\n",
    "    right_exceed = False\n",
    "    \n",
    "    top_left, top_right, bottom_right, bottom_left = rectangle\n",
    "    \n",
    "    if bottom_right[0] < point[0]-radius:\n",
    "        right_exceed = True\n",
    "        print(\"right exceed\")\n",
    "        print((point[0]-radius,point[1]))\n",
    "        print(bottom_right)\n",
    "        return True\n",
    "    if bottom_left[0] > point[0]+radius:\n",
    "        print(\"left exceed\")\n",
    "        print((point[0]+radius,point[1]))\n",
    "        print(bottom_left)\n",
    "        left_exceed = True\n",
    "        return True\n",
    "    if top_left[1] > point[1]+radius:\n",
    "        top_exceed = True\n",
    "        return True"
   ]
  },
  {
   "cell_type": "code",
   "execution_count": 320,
   "id": "e5a17236",
   "metadata": {},
   "outputs": [],
   "source": [
    "def is_terminate(point, rectangle, radius):\n",
    "    top_left, top_right, bottom_right, bottom_left = rectangle\n",
    "    \n",
    "#     if top_right[0] < point[0]-radius and top_right[1] > point[1]+radius:\n",
    "#         print(\"one\")\n",
    "#         print(point)\n",
    "#         print(top_right)\n",
    "#         return True\n",
    "    if top_left[0] > point[0]+radius and top_left[1] > point[1]+radius:\n",
    "        print(\"two\")\n",
    "        print(point)\n",
    "        print(top_left)\n",
    "        return True\n",
    "    return False"
   ]
  },
  {
   "cell_type": "code",
   "execution_count": 342,
   "id": "1d499f5a",
   "metadata": {},
   "outputs": [],
   "source": [
    "# polygon = [(0,5), (1,1), (3,1),(5,2),(7,0),(9,2),\n",
    "#            (8,4), (8,7), (6,9), (5,8), (3,9)]\n",
    "polygon = [(0,5), (1,1), (3,5),(5,2),(7,0),(9,2),\n",
    "           (8,4), (8,7), (6,9), (7,8), (3,9)]"
   ]
  },
  {
   "cell_type": "code",
   "execution_count": 343,
   "id": "91ba5753",
   "metadata": {},
   "outputs": [
    {
     "name": "stdout",
     "output_type": "stream",
     "text": [
      "right exceed\n",
      "(9.5, 9)\n",
      "(9, 9)\n",
      "left exceed\n",
      "(-1.625, 7.484455543377233)\n",
      "(0, 9)\n",
      "right exceed\n",
      "(9.5, 5.968911086754465)\n",
      "(9, 9)\n",
      "left exceed\n",
      "(-1.625, 4.453366630131698)\n",
      "(0, 9)\n",
      "right exceed\n",
      "(9.5, 2.9378221735089305)\n",
      "(9, 9)\n",
      "left exceed\n",
      "(-1.625, 1.422277716886163)\n",
      "(0, 9)\n",
      "right exceed\n",
      "(9.5, -0.09326673973660471)\n",
      "(9, 9)\n",
      "right exceed\n",
      "(11.25, -3.12435565298214)\n",
      "(9, 9)\n",
      "right exceed\n",
      "(13.0, -6.155444566227675)\n",
      "(9, 9)\n",
      "right exceed\n",
      "(10.375, -7.670989022850442)\n",
      "(9, 9)\n",
      "right exceed\n",
      "(14.75, -9.18653347947321)\n",
      "(9, 9)\n"
     ]
    }
   ],
   "source": [
    "radius = 1\n",
    "shift_coeff = 1.75\n",
    "x_step = shift_coeff*radius\n",
    "y_step = 0\n",
    "scan = True\n",
    "rectangle = find_bounding_rectangle(polygon)\n",
    "starting_point = rectangle[3] # bottom_left as a center of first circle\n",
    "circles = []\n",
    "current_point = starting_point\n",
    "count = 50\n",
    "all_scanned_point = []\n",
    "while scan:\n",
    "    # left to right\n",
    "    all_scanned_point.append(current_point)\n",
    "    last_point = current_point\n",
    "    \n",
    "    \n",
    "    if are_overlap(current_point,polygon,radius):\n",
    "        circles.append(current_point)\n",
    "        \n",
    "        \n",
    "    current_point = [current_point[0]+x_step , current_point[1]]\n",
    "    # if current_point exceed boundary\n",
    "    if is_exceed(current_point,rectangle,radius): # x = r CosB, y = r SinB where B is 60deg\n",
    "        #update point to 60deg upward\n",
    "        last_point[0] += (radius*shift_coeff * math.cos(math.radians(60)))\n",
    "        last_point[1] -= (radius*shift_coeff * math.sin(math.radians(60)))\n",
    "        x_step = -x_step #toggle the step\n",
    "        current_point = last_point\n",
    "        \n",
    "    #terminating condition\n",
    "    if is_terminate(current_point,rectangle,radius):\n",
    "        print(\"yes\")\n",
    "        break;\n",
    "    count -= 1\n",
    "    \n",
    "    if count < 0:\n",
    "        break\n"
   ]
  },
  {
   "cell_type": "code",
   "execution_count": 344,
   "id": "1d106406",
   "metadata": {},
   "outputs": [
    {
     "data": {
      "text/plain": [
       "[[3.5, 9],\n",
       " [5.25, 9],\n",
       " [7.0, 9],\n",
       " [7.875, 7.484455543377233],\n",
       " [6.125, 7.484455543377233],\n",
       " [4.375, 7.484455543377233],\n",
       " [2.625, 7.484455543377233],\n",
       " [0.875, 7.484455543377233],\n",
       " [2.220446049250313e-16, 5.968911086754465],\n",
       " [1.7500000000000002, 5.968911086754465],\n",
       " [3.5, 5.968911086754465],\n",
       " [5.25, 5.968911086754465],\n",
       " [7.0, 5.968911086754465],\n",
       " [9.625, 4.453366630131698],\n",
       " [7.875, 4.453366630131698],\n",
       " [6.125, 4.453366630131698],\n",
       " [4.375, 4.453366630131698],\n",
       " [2.625, 4.453366630131698],\n",
       " [0.875, 4.453366630131698],\n",
       " [2.220446049250313e-16, 2.9378221735089305],\n",
       " [1.7500000000000002, 2.9378221735089305],\n",
       " [3.5, 2.9378221735089305],\n",
       " [5.25, 2.9378221735089305],\n",
       " [7.0, 2.9378221735089305],\n",
       " [9.625, 1.422277716886163],\n",
       " [9.625, 1.422277716886163],\n",
       " [7.875, 1.422277716886163],\n",
       " [6.125, 1.422277716886163],\n",
       " [4.375, 1.422277716886163],\n",
       " [0.875, 1.422277716886163],\n",
       " [7.0, -0.09326673973660471]]"
      ]
     },
     "execution_count": 344,
     "metadata": {},
     "output_type": "execute_result"
    }
   ],
   "source": [
    "circles"
   ]
  },
  {
   "cell_type": "code",
   "execution_count": 345,
   "id": "1f343bf7",
   "metadata": {},
   "outputs": [
    {
     "data": {
      "text/plain": [
       "31"
      ]
     },
     "execution_count": 345,
     "metadata": {},
     "output_type": "execute_result"
    }
   ],
   "source": [
    "len(circles)"
   ]
  },
  {
   "cell_type": "markdown",
   "id": "ad26ea2c",
   "metadata": {},
   "source": [
    "# Visualization"
   ]
  },
  {
   "cell_type": "code",
   "execution_count": 346,
   "id": "f27201b0",
   "metadata": {},
   "outputs": [],
   "source": [
    "from ipycanvas import Canvas\n",
    "from IPython.display import display"
   ]
  },
  {
   "cell_type": "code",
   "execution_count": 347,
   "id": "38e11a8c",
   "metadata": {},
   "outputs": [],
   "source": [
    "def scalar(listObj):\n",
    "    xmin = 0\n",
    "    xmax = 9\n",
    "    ymin = 0\n",
    "    ymax = 9\n",
    "    gMin = 0\n",
    "    gMax = 500\n",
    "    scaled_poly = [(gMin+(x-xmin)*(gMax-gMin)/(xmax-xmin),gMin+(y-ymin)*(gMax-gMin)/(ymax-ymin)) for x,y in listObj]\n",
    "    return scaled_poly"
   ]
  },
  {
   "cell_type": "code",
   "execution_count": 348,
   "id": "1da77f31",
   "metadata": {},
   "outputs": [
    {
     "data": {
      "application/vnd.jupyter.widget-view+json": {
       "model_id": "537469bccece49949fda5fc03151035d",
       "version_major": 2,
       "version_minor": 0
      },
      "text/plain": [
       "Canvas(height=900, width=900)"
      ]
     },
     "metadata": {},
     "output_type": "display_data"
    }
   ],
   "source": [
    "cvs = Canvas(width=900, height=900)\n",
    "\n",
    "scaled_poly = scalar(polygon)\n",
    "scaled_rect = find_bounding_rectangle(scaled_poly)\n",
    "scaled_radius = 0 + (radius-0)*(500-0)/(9-0) \n",
    "cvs.fill_style=\"#DBc4c6\"\n",
    "cvs.fill_polygon(scaled_poly)\n",
    "cvs.stroke_polygon(scaled_rect)\n",
    "cvs.stroke_style = \"red\"\n",
    "# cvs.stroke_polygon(scalar(circles))\n",
    "cvs.stroke_style = \"green\"\n",
    "for x,y in scalar(circles):\n",
    "    cvs.fill_style = \"blue\"\n",
    "#     cvs.fill_circle(x,y,scaled_radius)\n",
    "    cvs.stroke_circle(x,y, scaled_radius)\n",
    "    \n",
    "cvs"
   ]
  },
  {
   "cell_type": "code",
   "execution_count": 340,
   "id": "dfdaf98e",
   "metadata": {},
   "outputs": [
    {
     "data": {
      "application/vnd.jupyter.widget-view+json": {
       "model_id": "2b801b874820491b8144ae4edf0f12a8",
       "version_major": 2,
       "version_minor": 0
      },
      "text/plain": [
       "Canvas(height=600, width=600)"
      ]
     },
     "metadata": {},
     "output_type": "display_data"
    }
   ],
   "source": [
    "cvs = Canvas(width=600, height=600)\n",
    "poly = [(0,5), (1,1), (3,5),(5,2),(7,0),(9,2),\n",
    "           (8,4), (8,7), (6,9), (5,8), (3,9)]\n",
    "cvs.stroke_polygon(scalar(poly))\n",
    "cvs"
   ]
  },
  {
   "cell_type": "code",
   "execution_count": null,
   "id": "7ed73ac6",
   "metadata": {},
   "outputs": [],
   "source": []
  }
 ],
 "metadata": {
  "kernelspec": {
   "display_name": "Python 3 (ipykernel)",
   "language": "python",
   "name": "python3"
  },
  "language_info": {
   "codemirror_mode": {
    "name": "ipython",
    "version": 3
   },
   "file_extension": ".py",
   "mimetype": "text/x-python",
   "name": "python",
   "nbconvert_exporter": "python",
   "pygments_lexer": "ipython3",
   "version": "3.9.7"
  }
 },
 "nbformat": 4,
 "nbformat_minor": 5
}
